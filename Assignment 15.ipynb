{
 "cells": [
  {
   "cell_type": "markdown",
   "id": "5472766b",
   "metadata": {},
   "source": [
    "# Q1.\n",
    "### Given an array **arr[ ]** of size **N** having elements, the task is to find the next greater element for each element of the array in order of their appearance in the array.Next greater element of an element in the array is the nearest element on the right which is greater than the current element.If there does not exist next greater of current element, then next greater element for current element is -1. For example, next greater of the last element is always -1.\n",
    "\n",
    "### **Example 1:**\n",
    "### Input:\n",
    "### N = 4, arr[] = [1 3 2 4]\n",
    "### Output:\n",
    "### 3 4 4 -1\n",
    "### Explanation:\n",
    "### In the array, the next larger element to 1 is 3 , 3 is 4 , 2 is 4 and for 4 ? since it doesn't exist, it is -1.\n"
   ]
  },
  {
   "cell_type": "code",
   "execution_count": 1,
   "id": "492287f1",
   "metadata": {},
   "outputs": [
    {
     "name": "stdout",
     "output_type": "stream",
     "text": [
      "[3, 4, 4, -1]\n"
     ]
    }
   ],
   "source": [
    "def next_greater_elements(arr):\n",
    "    n = len(arr)\n",
    "    result = [-1] * n\n",
    "    stack = []\n",
    "\n",
    "    for i in range(n - 1, -1, -1):\n",
    "        while stack and arr[i] >= stack[-1]:\n",
    "            stack.pop()\n",
    "\n",
    "        if stack:\n",
    "            result[i] = stack[-1]\n",
    "\n",
    "        stack.append(arr[i])\n",
    "\n",
    "    return result\n",
    "\n",
    "# Example Test\n",
    "arr = [1, 3, 2, 4]\n",
    "result = next_greater_elements(arr)\n",
    "print(result) \n"
   ]
  },
  {
   "cell_type": "markdown",
   "id": "1e828a87",
   "metadata": {},
   "source": [
    "# Q2.\n",
    "### Given an array **a** of integers of length **n**, find the nearest smaller number for every element such that the smaller element is on left side.If no small element present on the left print -1.\n",
    "\n",
    "### **Example 1:**\n",
    "### Input: n = 3\n",
    "### a = {1, 6, 2}\n",
    "### Output: -1 1 1\n",
    "### Explaination: There is no number at the left of 1. Smaller number than 6 and 2 is 1."
   ]
  },
  {
   "cell_type": "code",
   "execution_count": 2,
   "id": "112878a0",
   "metadata": {},
   "outputs": [
    {
     "name": "stdout",
     "output_type": "stream",
     "text": [
      "[-1, 1, 1]\n"
     ]
    }
   ],
   "source": [
    "def nearest_smaller_elements(arr):\n",
    "    n = len(arr)\n",
    "    result = [-1] * n\n",
    "    stack = []\n",
    "\n",
    "    for i in range(n):\n",
    "        while stack and arr[i] < stack[-1]:\n",
    "            stack.pop()\n",
    "\n",
    "        if stack:\n",
    "            result[i] = stack[-1]\n",
    "\n",
    "        stack.append(arr[i])\n",
    "\n",
    "    return result\n",
    "\n",
    "# Example Test\n",
    "arr = [1, 6, 2]\n",
    "result = nearest_smaller_elements(arr)\n",
    "print(result)  \n"
   ]
  },
  {
   "cell_type": "markdown",
   "id": "bdc6ce13",
   "metadata": {},
   "source": [
    "# Q3.\n",
    "### Implement a Stack using two queues **q1** and **q2**.\n",
    "\n",
    "### **Example 1:**\n",
    "### Input:\n",
    "### push(2)\n",
    "### push(3)\n",
    "### pop()\n",
    "### push(4)\n",
    "### pop()\n",
    "### Output:3 4\n",
    "### Explanation:\n",
    "### push(2) the stack will be {2}\n",
    "### push(3) the stack will be {2 3}\n",
    "### pop()   poped element will be 3 the stack will be {2}\n",
    "### push(4) the stack will be {2 4}\n",
    "### pop()   poped element will be 4"
   ]
  },
  {
   "cell_type": "code",
   "execution_count": 3,
   "id": "b94fc87a",
   "metadata": {},
   "outputs": [
    {
     "name": "stdout",
     "output_type": "stream",
     "text": [
      "3\n",
      "4\n"
     ]
    }
   ],
   "source": [
    "from queue import Queue\n",
    "\n",
    "class StackUsingQueues:\n",
    "    def __init__(self):\n",
    "        self.q1 = Queue()\n",
    "        self.q2 = Queue()\n",
    "\n",
    "    def push(self, val):\n",
    "        self.q2.put(val)\n",
    "\n",
    "        while not self.q1.empty():\n",
    "            self.q2.put(self.q1.queue[0])\n",
    "            self.q1.get()\n",
    "\n",
    "        self.q1, self.q2 = self.q2, self.q1\n",
    "\n",
    "    def pop(self):\n",
    "        if self.q1.empty():\n",
    "            return None\n",
    "        return self.q1.get()\n",
    "\n",
    "# Example Test\n",
    "stack = StackUsingQueues()\n",
    "stack.push(2)\n",
    "stack.push(3)\n",
    "print(stack.pop())  \n",
    "stack.push(4)\n",
    "print(stack.pop())  \n"
   ]
  },
  {
   "cell_type": "markdown",
   "id": "64c5a07d",
   "metadata": {},
   "source": [
    "# Q4.\n",
    "### You are given a stack St. You have to reverse the stack using recursion.\n",
    "### **Example 1:**\n",
    "### Input:St = {3,2,1,7,6}\n",
    "### Output:{6,7,1,2,3}"
   ]
  },
  {
   "cell_type": "code",
   "execution_count": 4,
   "id": "d1aa53e5",
   "metadata": {},
   "outputs": [
    {
     "name": "stdout",
     "output_type": "stream",
     "text": [
      "Original Stack: [3, 2, 1, 7, 6]\n",
      "Reversed Stack: [6, 7, 1, 2, 3]\n"
     ]
    }
   ],
   "source": [
    "class Stack:\n",
    "    def __init__(self):\n",
    "        self.items = []\n",
    "\n",
    "    def push(self, item):\n",
    "        self.items.append(item)\n",
    "\n",
    "    def pop(self):\n",
    "        if not self.is_empty():\n",
    "            return self.items.pop()\n",
    "\n",
    "    def is_empty(self):\n",
    "        return len(self.items) == 0\n",
    "\n",
    "    def reverse(self):\n",
    "        if not self.is_empty():\n",
    "\n",
    "            temp = self.pop()\n",
    "\n",
    "            self.reverse()\n",
    "\n",
    "            self.insert_at_bottom(temp)\n",
    "\n",
    "    def insert_at_bottom(self, item):\n",
    "        if self.is_empty():\n",
    "            self.push(item)\n",
    "        else:\n",
    "            temp = self.pop()\n",
    "            self.insert_at_bottom(item)\n",
    "            self.push(temp)\n",
    "\n",
    "# Example Test\n",
    "stack = Stack()\n",
    "stack.push(3)\n",
    "stack.push(2)\n",
    "stack.push(1)\n",
    "stack.push(7)\n",
    "stack.push(6)\n",
    "\n",
    "print(\"Original Stack:\", stack.items)\n",
    "stack.reverse()\n",
    "print(\"Reversed Stack:\", stack.items)\n"
   ]
  },
  {
   "cell_type": "markdown",
   "id": "b032d5dd",
   "metadata": {},
   "source": [
    "# Q5.\n",
    "### You are given a string **S**, the task is to reverse the string using stack.\n",
    "\n",
    "### **Example 1:**\n",
    "### Input: S=\"GeeksforGeeks\"\n",
    "### Output: skeeGrofskeeG"
   ]
  },
  {
   "cell_type": "code",
   "execution_count": 5,
   "id": "ebfd6057",
   "metadata": {},
   "outputs": [
    {
     "name": "stdout",
     "output_type": "stream",
     "text": [
      "skeeGrofskeeG\n"
     ]
    }
   ],
   "source": [
    "class Stack:\n",
    "    def __init__(self):\n",
    "        self.items = []\n",
    "\n",
    "    def push(self, item):\n",
    "        self.items.append(item)\n",
    "\n",
    "    def pop(self):\n",
    "        if not self.is_empty():\n",
    "            return self.items.pop()\n",
    "\n",
    "    def is_empty(self):\n",
    "        return len(self.items) == 0\n",
    "\n",
    "def reverse_string(S):\n",
    "    stack = Stack()\n",
    "\n",
    "    for char in S:\n",
    "        stack.push(char)\n",
    "\n",
    "    reversed_string = \"\"\n",
    "    while not stack.is_empty():\n",
    "        reversed_string += stack.pop()\n",
    "\n",
    "    return reversed_string\n",
    "\n",
    "# Test\n",
    "S = \"GeeksforGeeks\"\n",
    "print(reverse_string(S)) \n"
   ]
  },
  {
   "cell_type": "markdown",
   "id": "2703847b",
   "metadata": {},
   "source": [
    "# Q6.\n",
    "### Given string **S** representing a postfix expression, the task is to evaluate the expression and find the final value. Operators will only include the basic arithmetic operators like ***, /, + and -**.\n",
    "\n",
    "### **Example 1:**\n",
    "### Input: S = \"231*+9-\"\n",
    "### Output: -4\n",
    "### Explanation:\n",
    "### After solving the given expression, we have -4 as result.\n"
   ]
  },
  {
   "cell_type": "code",
   "execution_count": 6,
   "id": "eb21f3bf",
   "metadata": {},
   "outputs": [
    {
     "name": "stdout",
     "output_type": "stream",
     "text": [
      "-4\n"
     ]
    }
   ],
   "source": [
    "class Stack:\n",
    "    def __init__(self):\n",
    "        self.items = []\n",
    "\n",
    "    def push(self, item):\n",
    "        self.items.append(item)\n",
    "\n",
    "    def pop(self):\n",
    "        if not self.is_empty():\n",
    "            return self.items.pop()\n",
    "\n",
    "    def is_empty(self):\n",
    "        return len(self.items) == 0\n",
    "\n",
    "def evaluate_postfix_expression(S):\n",
    "    stack = Stack()\n",
    "\n",
    "    for char in S:\n",
    "        if char.isdigit():\n",
    "            stack.push(int(char))\n",
    "        else:\n",
    "            operand2 = stack.pop()\n",
    "            operand1 = stack.pop()\n",
    "\n",
    "            if char == '+':\n",
    "                result = operand1 + operand2\n",
    "            elif char == '-':\n",
    "                result = operand1 - operand2\n",
    "            elif char == '*':\n",
    "                result = operand1 * operand2\n",
    "            elif char == '/':\n",
    "                result = operand1 / operand2\n",
    "                \n",
    "                result = int(result)\n",
    "\n",
    "            stack.push(result)\n",
    "\n",
    "    return stack.pop()\n",
    "\n",
    "# Example Test\n",
    "S = \"231*+9-\"\n",
    "print(evaluate_postfix_expression(S))  \n"
   ]
  },
  {
   "cell_type": "markdown",
   "id": "82af494a",
   "metadata": {},
   "source": [
    "# Q7.\n",
    "### Design a stack that supports push, pop, top, and retrieving the minimum element in constant time.\n",
    "\n",
    "### Implement the `MinStack` class:\n",
    "\n",
    "### - `MinStack()` initializes the stack object.\n",
    "### - `void push(int val)` pushes the element `val` onto the stack.\n",
    "### - `void pop()` removes the element on the top of the stack.\n",
    "### - `int top()` gets the top element of the stack.\n",
    "### - `int getMin()` retrieves the minimum element in the stack.\n",
    "\n",
    "### You must implement a solution with `O(1)` time complexity for each function.\n",
    "\n",
    "### **Example 1:**\n",
    "###  Input\n",
    "### [\"MinStack\",\"push\",\"push\",\"push\",\"getMin\",\"pop\",\"top\",\"getMin\"]\n",
    "### [[],[-2],[0],[-3],[],[],[],[]]\n",
    "\n",
    "### Output\n",
    "### [null,null,null,null,-3,null,0,-2]\n",
    "\n",
    "### Explanation\n",
    "### MinStack minStack = new MinStack();\n",
    "### minStack.push(-2);\n",
    "### minStack.push(0);\n",
    "### minStack.push(-3);\n",
    "### minStack.getMin(); // return -3\n",
    "### minStack.pop();\n",
    "### minStack.top();    // return 0\n",
    "### minStack.getMin(); // return -2"
   ]
  },
  {
   "cell_type": "code",
   "execution_count": 7,
   "id": "386ff92a",
   "metadata": {},
   "outputs": [
    {
     "name": "stdout",
     "output_type": "stream",
     "text": [
      "-3\n",
      "0\n",
      "-2\n"
     ]
    }
   ],
   "source": [
    "class MinStack:\n",
    "    def __init__(self):\n",
    "        self.stack = []\n",
    "        self.min_stack = []\n",
    "\n",
    "    def push(self, val):\n",
    "        self.stack.append(val)\n",
    "        if not self.min_stack or val <= self.min_stack[-1]:\n",
    "            self.min_stack.append(val)\n",
    "\n",
    "    def pop(self):\n",
    "        if self.stack:\n",
    "            if self.stack[-1] == self.min_stack[-1]:\n",
    "                self.min_stack.pop()\n",
    "            self.stack.pop()\n",
    "\n",
    "    def top(self):\n",
    "        if self.stack:\n",
    "            return self.stack[-1]\n",
    "\n",
    "    def getMin(self):\n",
    "        if self.min_stack:\n",
    "            return self.min_stack[-1]\n",
    "\n",
    "# Example Test\n",
    "minStack = MinStack()\n",
    "minStack.push(-2)\n",
    "minStack.push(0)\n",
    "minStack.push(-3)\n",
    "print(minStack.getMin())  \n",
    "minStack.pop()\n",
    "print(minStack.top())  \n",
    "print(minStack.getMin())  \n"
   ]
  },
  {
   "cell_type": "markdown",
   "id": "53055010",
   "metadata": {},
   "source": [
    "# Q8.\n",
    "### Given `n` non-negative integers representing an elevation map where the width of each bar is `1`, compute how much water it can trap after raining.\n",
    "\n",
    "### **Example 1:**\n",
    "### Input: height = [0,1,0,2,1,0,1,3,2,1,2,1]\n",
    "### Output: 6\n",
    "### Explanation: The above elevation map (black section) is represented by array [0,1,0,2,1,0,1,3,2,1,2,1]. In this case, 6 units of rain water (blue section) are being trapped.\n"
   ]
  },
  {
   "cell_type": "code",
   "execution_count": 8,
   "id": "91b3148a",
   "metadata": {},
   "outputs": [
    {
     "name": "stdout",
     "output_type": "stream",
     "text": [
      "6\n"
     ]
    }
   ],
   "source": [
    "def trap(height):\n",
    "    n = len(height)\n",
    "    left, right = 0, n - 1\n",
    "    left_max, right_max = 0, 0\n",
    "    trapped_water = 0\n",
    "\n",
    "    while left < right:\n",
    "        if height[left] < height[right]:\n",
    "            if height[left] >= left_max:\n",
    "                left_max = height[left]\n",
    "            else:\n",
    "                trapped_water += left_max - height[left]\n",
    "            left += 1\n",
    "        else:\n",
    "            if height[right] >= right_max:\n",
    "                right_max = height[right]\n",
    "            else:\n",
    "                trapped_water += right_max - height[right]\n",
    "            right -= 1\n",
    "\n",
    "    return trapped_water\n",
    "\n",
    "height = [0, 1, 0, 2, 1, 0, 1, 3, 2, 1, 2, 1]\n",
    "print(trap(height)) \n"
   ]
  }
 ],
 "metadata": {
  "kernelspec": {
   "display_name": "Python 3 (ipykernel)",
   "language": "python",
   "name": "python3"
  },
  "language_info": {
   "codemirror_mode": {
    "name": "ipython",
    "version": 3
   },
   "file_extension": ".py",
   "mimetype": "text/x-python",
   "name": "python",
   "nbconvert_exporter": "python",
   "pygments_lexer": "ipython3",
   "version": "3.10.9"
  }
 },
 "nbformat": 4,
 "nbformat_minor": 5
}
