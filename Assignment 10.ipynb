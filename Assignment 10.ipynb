{
 "cells": [
  {
   "cell_type": "markdown",
   "id": "a35bb2ce",
   "metadata": {},
   "source": [
    "# Q1.\n",
    "### Given an integer `n`, return *`true` if it is a power of three. Otherwise, return `false`*.\n",
    "### An integer `n` is a power of three, if there exists an integer `x` such that `n == 3x`.\n",
    "### Example\n",
    "### Input: n = 27\n",
    "### Output: true"
   ]
  },
  {
   "cell_type": "code",
   "execution_count": 1,
   "id": "fdc51a99",
   "metadata": {},
   "outputs": [
    {
     "name": "stdout",
     "output_type": "stream",
     "text": [
      "True\n"
     ]
    }
   ],
   "source": [
    "import math\n",
    "\n",
    "def is_power_of_three(n):\n",
    "    if n <= 0:\n",
    "        return False\n",
    "\n",
    "    exponent = round(math.log(n, 3))\n",
    "    return 3 ** exponent == n\n",
    "\n",
    "# Test Example\n",
    "n = 27\n",
    "print(is_power_of_three(n))  \n"
   ]
  },
  {
   "cell_type": "markdown",
   "id": "e0a8db5e",
   "metadata": {},
   "source": [
    "# Q2.\n",
    "### You have a list `arr` of all integers in the range `[1, n]` sorted in a strictly increasing order. Apply the following algorithm on `arr`:\n",
    "\n",
    "### - Starting from left to right, remove the first number and every other number afterward until you reach the end of the list.\n",
    "### - Repeat the previous step again, but this time from right to left, remove the rightmost number and every other number from the remaining numbers.\n",
    "### - Keep repeating the steps again, alternating left to right and right to left, until a single number remains.\n",
    "### Given the integer `n`, return *the last number that remains in* `arr`.\n",
    "### Example\n",
    "### Input: n = 9\n",
    "### Output: 6"
   ]
  },
  {
   "cell_type": "code",
   "execution_count": 3,
   "id": "46bc6b98",
   "metadata": {},
   "outputs": [
    {
     "name": "stdout",
     "output_type": "stream",
     "text": [
      "6\n"
     ]
    }
   ],
   "source": [
    "def last_remaining(n):\n",
    "    left_to_right = True\n",
    "    remaining = n\n",
    "    step = 1\n",
    "    start = 1\n",
    "\n",
    "    while remaining > 1:\n",
    "        if left_to_right or remaining % 2 == 1:\n",
    "            start += step\n",
    "\n",
    "        remaining //= 2\n",
    "        step *= 2\n",
    "        left_to_right = not left_to_right\n",
    "\n",
    "    return start\n",
    "\n",
    "# Test Example\n",
    "n = 9\n",
    "print(last_remaining(n)) \n"
   ]
  },
  {
   "cell_type": "markdown",
   "id": "6596828e",
   "metadata": {},
   "source": [
    "# Q3.\n",
    "### Given a set represented as a string, write a recursive code to print all subsets of it. The subsets can be printed in any order.\n",
    "### **Example 1:**\n",
    "\n",
    "### Input :  set = “abc”\n",
    "\n",
    "### Output : { “”, “a”, “b”, “c”, “ab”, “ac”, “bc”, “abc”}"
   ]
  },
  {
   "cell_type": "code",
   "execution_count": 4,
   "id": "7c28ca93",
   "metadata": {},
   "outputs": [
    {
     "name": "stdout",
     "output_type": "stream",
     "text": [
      "\n",
      "a\n",
      "b\n",
      "ab\n",
      "c\n",
      "ac\n",
      "bc\n",
      "abc\n"
     ]
    }
   ],
   "source": [
    "def print_subsets(s):\n",
    "    n = len(s)\n",
    "    total_subsets = 1 << n  # Equivalent to 2^N\n",
    "\n",
    "    for i in range(total_subsets):\n",
    "        subset = \"\"\n",
    "        for j in range(n):\n",
    "            if i & (1 << j):\n",
    "                subset += s[j]\n",
    "        print(subset)\n",
    "\n",
    "# Test Example\n",
    "set_str = \"abc\"\n",
    "print_subsets(set_str)\n"
   ]
  },
  {
   "cell_type": "markdown",
   "id": "1a794ec9",
   "metadata": {},
   "source": [
    "# Q4.\n",
    "### Given a string calculate length of the string using recursion.\n",
    "### Example\n",
    "### Input : str = \"abcd\"\n",
    "### Output :4"
   ]
  },
  {
   "cell_type": "code",
   "execution_count": 5,
   "id": "62daa131",
   "metadata": {},
   "outputs": [
    {
     "name": "stdout",
     "output_type": "stream",
     "text": [
      "4\n"
     ]
    }
   ],
   "source": [
    "def string_length_recursive(s):\n",
    "    if s == \"\":\n",
    "        return 0\n",
    "    else:\n",
    "        return 1 + string_length_recursive(s[1:])\n",
    "\n",
    "# Test Example\n",
    "str_input = \"abcd\"\n",
    "print(string_length_recursive(str_input))  \n"
   ]
  },
  {
   "cell_type": "markdown",
   "id": "89b34296",
   "metadata": {},
   "source": [
    "# Q5.\n",
    "### We are given a string S, we need to find count of all contiguous substrings starting and ending with same character.\n",
    "### Example\n",
    "### Input  : S = \"aba\"\n",
    "### Output : 4\n",
    "### The substrings are a, b, a and aba"
   ]
  },
  {
   "cell_type": "code",
   "execution_count": 6,
   "id": "c94c1534",
   "metadata": {},
   "outputs": [
    {
     "name": "stdout",
     "output_type": "stream",
     "text": [
      "4\n"
     ]
    }
   ],
   "source": [
    "def count_contiguous_substrings(S):\n",
    "    count = 0\n",
    "    n = len(S)\n",
    "\n",
    "    for i in range(n):\n",
    "        j = i\n",
    "        while j < n:\n",
    "            if S[i] == S[j]:\n",
    "                count += 1\n",
    "            j += 1\n",
    "\n",
    "    return count\n",
    "\n",
    "# Test Example\n",
    "S = \"aba\"\n",
    "print(count_contiguous_substrings(S))  \n"
   ]
  },
  {
   "cell_type": "markdown",
   "id": "9a92a975",
   "metadata": {},
   "source": [
    "# Q6.\n",
    "### The tower of Hanoi is a famous puzzle where we have three rods and N disks. The objective of the puzzle is to move the entire stack to another rod. You are given the number of discs N. Initially, these discs are in the rod 1. You need to print all the steps of discs movement so that all the discs reach the 3rd rod. Also, you need to find the total moves.Note: The discs are arranged such that the top disc is numbered 1 and the bottom-most disc is numbered N. Also, all the discs have different sizes and a bigger disc cannot be put on the top of a smaller disc. Refer the provided link to get a better clarity about the puzzle.\n",
    "### Example\n",
    "### Input:\n",
    "### N = 2\n",
    "### Output:\n",
    "### move disk 1 from rod 1 to rod 2\n",
    "### move disk 2 from rod 1 to rod 3\n",
    "### move disk 1 from rod 2 to rod 3\n",
    "### 3\n"
   ]
  },
  {
   "cell_type": "code",
   "execution_count": 8,
   "id": "10b81fd0",
   "metadata": {},
   "outputs": [
    {
     "name": "stdout",
     "output_type": "stream",
     "text": [
      "move disk 1 from rod [2] to rod [1]\n",
      "move disk 2 from rod [] to rod [2]\n",
      "move disk 1 from rod [] to rod [2, 1]\n",
      "Total Moves: 3\n"
     ]
    }
   ],
   "source": [
    "def tower_of_hanoi(n):\n",
    "    moves = []\n",
    "    source = [i for i in range(n, 0, -1)]\n",
    "    auxiliary = []\n",
    "    destination = []\n",
    "\n",
    "    def move_disk(src, dest):\n",
    "        dest.append(src.pop())\n",
    "        moves.append(f\"move disk {dest[-1]} from rod {src} to rod {dest}\")\n",
    "\n",
    "    def hanoi(n, source, auxiliary, destination):\n",
    "        if n == 0:\n",
    "            return\n",
    "        hanoi(n-1, source, destination, auxiliary)\n",
    "        move_disk(source, destination)\n",
    "        hanoi(n-1, auxiliary, source, destination)\n",
    "\n",
    "    hanoi(n, source, auxiliary, destination)\n",
    "    return moves\n",
    "\n",
    "# Test Example\n",
    "N = 2\n",
    "moves = tower_of_hanoi(N)\n",
    "for move in moves:\n",
    "    print(move)\n",
    "print(\"Total Moves:\", len(moves))\n"
   ]
  },
  {
   "cell_type": "markdown",
   "id": "5fba700b",
   "metadata": {},
   "source": [
    "# Q7.\n",
    "### Given a string **str**, the task is to print all the permutations of **str**. A **permutation** is an arrangement of all or part of a set of objects, with regard to the order of the arrangement. For instance, the words ‘bat’ and ‘tab’ represents two distinct permutation (or arrangements) of a similar three letter word.\n",
    "\n",
    "### **Examples:**\n",
    "\n",
    "### Input: str = “cd”\n",
    "### **Output:** cd dc\n"
   ]
  },
  {
   "cell_type": "code",
   "execution_count": 9,
   "id": "c0e2b665",
   "metadata": {},
   "outputs": [
    {
     "name": "stdout",
     "output_type": "stream",
     "text": [
      "dc\n",
      "cd\n"
     ]
    }
   ],
   "source": [
    "from itertools import permutations\n",
    "\n",
    "def all_permutations(str):\n",
    "    perm_set = set(permutations(str))\n",
    "    for perm in perm_set:\n",
    "        print(\"\".join(perm))\n",
    "\n",
    "# Test Exampple\n",
    "input_str = \"cd\"\n",
    "all_permutations(input_str)\n"
   ]
  },
  {
   "cell_type": "markdown",
   "id": "8e0ec363",
   "metadata": {},
   "source": [
    "# Q8.\n",
    "### Given a string, count total number of consonants in it. A consonant is an English alphabet character that is not vowel (a, e, i, o and u). Examples of constants are b, c, d, f, and g.\n",
    "\n",
    "### **Examples :**\n",
    "### Input : abc de\n",
    "### Output : 3\n",
    "### There are three consonants b, c and d."
   ]
  },
  {
   "cell_type": "code",
   "execution_count": 10,
   "id": "6101cd4a",
   "metadata": {},
   "outputs": [
    {
     "name": "stdout",
     "output_type": "stream",
     "text": [
      "3\n"
     ]
    }
   ],
   "source": [
    "def count_consonants(s):\n",
    "    consonants = set(\"bcdfghjklmnpqrstvwxyzBCDFGHJKLMNPQRSTVWXYZ\")\n",
    "    count = 0\n",
    "\n",
    "    for char in s:\n",
    "        if char in consonants:\n",
    "            count += 1\n",
    "\n",
    "    return count\n",
    "\n",
    "# Test Example\n",
    "input_str = \"abc de\"\n",
    "print(count_consonants(input_str)) \n"
   ]
  }
 ],
 "metadata": {
  "kernelspec": {
   "display_name": "Python 3 (ipykernel)",
   "language": "python",
   "name": "python3"
  },
  "language_info": {
   "codemirror_mode": {
    "name": "ipython",
    "version": 3
   },
   "file_extension": ".py",
   "mimetype": "text/x-python",
   "name": "python",
   "nbconvert_exporter": "python",
   "pygments_lexer": "ipython3",
   "version": "3.10.9"
  }
 },
 "nbformat": 4,
 "nbformat_minor": 5
}
