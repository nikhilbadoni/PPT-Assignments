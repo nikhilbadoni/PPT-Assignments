{
 "cells": [
  {
   "cell_type": "markdown",
   "id": "2b715ced",
   "metadata": {},
   "source": [
    "# Q1.\n",
    "### Given two strings s1 and s2, return *the lowest **ASCII** sum of deleted characters to make two strings equal*.\n",
    "\n",
    "### **Example 1:**\n",
    "\n",
    "### **Input:** s1 = \"s ea\", s2 = \"eat\"\n",
    "\n",
    "### **Output:** 231"
   ]
  },
  {
   "cell_type": "code",
   "execution_count": 5,
   "id": "ae5e548e",
   "metadata": {},
   "outputs": [
    {
     "name": "stdout",
     "output_type": "stream",
     "text": [
      "263\n"
     ]
    }
   ],
   "source": [
    "def minimumDeleteSum(s1, s2):\n",
    "    m, n = len(s1), len(s2)\n",
    "    dp = [[0] * (n + 1) for _ in range(m + 1)]\n",
    "\n",
    "    for i in range(1, m + 1):\n",
    "        dp[i][0] = dp[i - 1][0] + ord(s1[i - 1])\n",
    "    for j in range(1, n + 1):\n",
    "        dp[0][j] = dp[0][j - 1] + ord(s2[j - 1])\n",
    "\n",
    "    for i in range(1, m + 1):\n",
    "        for j in range(1, n + 1):\n",
    "            if s1[i - 1] == s2[j - 1]:\n",
    "                dp[i][j] = dp[i - 1][j - 1]\n",
    "            else:\n",
    "                dp[i][j] = min(dp[i - 1][j] + ord(s1[i - 1]), dp[i][j - 1] + ord(s2[j - 1]), dp[i - 1][j - 1] + ord(s1[i - 1]) + ord(s2[j - 1]))\n",
    "\n",
    "    return dp[m][n]\n",
    "s1 = \"s ea\"\n",
    "s2 = \"eat\"\n",
    "result = minimumDeleteSum(s1, s2)\n",
    "print(result) \n"
   ]
  },
  {
   "cell_type": "markdown",
   "id": "e6cead1d",
   "metadata": {},
   "source": [
    "# Q2.\n",
    "### Given a string s containing only three types of characters: '(', ')' and '*', return true *if* s *is **valid***.\n",
    "\n",
    "### The following rules define a **valid** string:\n",
    "\n",
    "### - Any left parenthesis '(' must have a corresponding right parenthesis ')'.\n",
    "### - Any right parenthesis ')' must have a corresponding left parenthesis '('.\n",
    "### - Left parenthesis '(' must go before the corresponding right parenthesis ')'.\n",
    "### - '*' could be treated as a single right parenthesis ')' or a single left parenthesis '(' or an empty string \"\".\n",
    "\n",
    "### **Example 1:**\n",
    "\n",
    "### **Input:** s = \"()\"\n",
    "\n",
    "### **Output:**\n",
    "\n",
    "### true"
   ]
  },
  {
   "cell_type": "code",
   "execution_count": 6,
   "id": "8dddebbb",
   "metadata": {},
   "outputs": [
    {
     "name": "stdout",
     "output_type": "stream",
     "text": [
      "True\n"
     ]
    }
   ],
   "source": [
    "def checkValidString(s):\n",
    "    stack = []\n",
    "    star_stack = []\n",
    "    \n",
    "    for i, char in enumerate(s):\n",
    "        if char == '(':\n",
    "            stack.append(i)\n",
    "        elif char == '*':\n",
    "            star_stack.append(i)\n",
    "        else:\n",
    "            if stack:\n",
    "                stack.pop()\n",
    "            elif star_stack:\n",
    "                star_stack.pop()\n",
    "            else:\n",
    "                return False\n",
    "    \n",
    "    while stack and star_stack:\n",
    "        if stack[-1] > star_stack[-1]:\n",
    "            return False\n",
    "        stack.pop()\n",
    "        star_stack.pop()\n",
    "    \n",
    "    return len(stack) == 0\n",
    "\n",
    "s = \"()\"\n",
    "result = checkValidString(s)\n",
    "print(result) \n"
   ]
  },
  {
   "cell_type": "markdown",
   "id": "0a686266",
   "metadata": {},
   "source": [
    "# Q3.\n",
    "### Given two strings word1 and word2, return *the minimum number of **steps** required to make* word1 *and* word2 *the same*.\n",
    "\n",
    "### In one **step**, you can delete exactly one character in either string.\n",
    "\n",
    "### **Example 1:**\n",
    "\n",
    "### **Input:** word1 = \"sea\", word2 = \"eat\"\n",
    "\n",
    "### **Output:** 2"
   ]
  },
  {
   "cell_type": "code",
   "execution_count": 8,
   "id": "898982f9",
   "metadata": {},
   "outputs": [
    {
     "name": "stdout",
     "output_type": "stream",
     "text": [
      "2\n"
     ]
    }
   ],
   "source": [
    "def minDistance(word1, word2):\n",
    "    m, n = len(word1), len(word2)\n",
    "\n",
    "    if m > n:\n",
    "        word1, word2, m, n = word2, word1, n, m\n",
    "\n",
    "    dp = [0] * (m + 1)\n",
    "\n",
    "    for i in range(1, m + 1):\n",
    "        dp[i] = i\n",
    "\n",
    "    for j in range(1, n + 1):\n",
    "        prev = dp[0] \n",
    "        dp[0] = j\n",
    "        for i in range(1, m + 1):\n",
    "            temp = dp[i]\n",
    "            if word1[i - 1] == word2[j - 1]:\n",
    "                dp[i] = prev\n",
    "            else:\n",
    "                dp[i] = min(dp[i - 1], dp[i]) + 1\n",
    "            prev = temp\n",
    "\n",
    "    return dp[m]\n",
    "\n",
    "word1 = \"sea\"\n",
    "word2 = \"eat\"\n",
    "result = minDistance(word1, word2)\n",
    "print(result)\n"
   ]
  },
  {
   "cell_type": "markdown",
   "id": "b85da8c8",
   "metadata": {},
   "source": [
    "# Q4.\n",
    "### You need to construct a binary tree from a string consisting of parenthesis and integers. The whole input represents a binary tree. It contains an integer followed by zero, one or two pairs of parenthesis. The integer represents the root's value and a pair of parenthesis contains a child binary tree with the same structure. You always start to construct the **left** child node of the parent first if it exists.\n",
    "\n",
    "### **Input:** s = \"4(2(3)(1))(6(5))\"\n",
    "\n",
    "### **Output:** [4,2,6,3,1,5]"
   ]
  },
  {
   "cell_type": "code",
   "execution_count": 10,
   "id": "f062f1da",
   "metadata": {},
   "outputs": [
    {
     "name": "stdout",
     "output_type": "stream",
     "text": [
      "[3, 2, 1, 4, 5, 6]\n"
     ]
    }
   ],
   "source": [
    "class TreeNode:\n",
    "    def __init__(self, val=0, left=None, right=None):\n",
    "        self.val = val\n",
    "        self.left = left\n",
    "        self.right = right\n",
    "\n",
    "\n",
    "def str2tree(s):\n",
    "    if not s:\n",
    "        return None\n",
    "    \n",
    "    stack = []\n",
    "    i = 0\n",
    "    while i < len(s):\n",
    "        if s[i].isdigit() or s[i] == '-':\n",
    "            j = i\n",
    "            while j < len(s) and (s[j].isdigit() or s[j] == '-'):\n",
    "                j += 1\n",
    "            val = int(s[i:j])\n",
    "            node = TreeNode(val)\n",
    "            if stack:\n",
    "                parent = stack[-1]\n",
    "                if parent.left is None:\n",
    "                    parent.left = node\n",
    "                else:\n",
    "                    parent.right = node\n",
    "            stack.append(node)\n",
    "            i = j\n",
    "        elif s[i] == '(':\n",
    "            i += 1\n",
    "        else:\n",
    "            stack.pop()\n",
    "            i += 1\n",
    "    \n",
    "    return stack[0]\n",
    "\n",
    "\n",
    "def inorder_traversal(node, result):\n",
    "    if node is None:\n",
    "        return\n",
    "    \n",
    "    inorder_traversal(node.left, result)\n",
    "    result.append(node.val)\n",
    "    inorder_traversal(node.right, result)\n",
    "\n",
    "\n",
    "def construct_tree_from_string(s):\n",
    "    root = str2tree(s)\n",
    "    result = []\n",
    "    inorder_traversal(root, result)\n",
    "    return result\n",
    "\n",
    "s = \"4(2(3)(1))(6(5))\"\n",
    "result = construct_tree_from_string(s)\n",
    "print(result)  \n"
   ]
  },
  {
   "cell_type": "markdown",
   "id": "aca0bfb1",
   "metadata": {},
   "source": [
    "# Q5.\n",
    "### Given an array of characters chars, compress it using the following algorithm: Begin with an empty string s. For each group of **consecutive repeating characters** in chars:\n",
    "\n",
    "### - If the group's length is 1, append the character to s.\n",
    "### - Otherwise, append the character followed by the group's length.\n",
    "\n",
    "### The compressed string s **should not be returned separately**, but instead, be stored **in the input character array chars**. Note that group lengths that are 10 or longer will be split into multiple characters in chars.\n",
    "\n",
    "### After you are done **modifying the input array,** return *the new length of the array*.\n",
    "\n",
    "### You must write an algorithm that uses only constant extra space.\n",
    "\n",
    "### **Example 1:**\n",
    "\n",
    "### **Input:** chars = [\"a\",\"a\",\"b\",\"b\",\"c\",\"c\",\"c\"]\n",
    "\n",
    "### **Output:** Return 6, and the first 6 characters of the input array should be: [\"a\",\"2\",\"b\",\"2\",\"c\",\"3\"]"
   ]
  },
  {
   "cell_type": "code",
   "execution_count": 11,
   "id": "7a5ccdea",
   "metadata": {},
   "outputs": [
    {
     "name": "stdout",
     "output_type": "stream",
     "text": [
      "6\n",
      "['a', '2', 'b', '2', 'c', '3']\n"
     ]
    }
   ],
   "source": [
    "def compress(chars):\n",
    "    n = len(chars)\n",
    "    if n == 0:\n",
    "        return 0\n",
    "\n",
    "    write_pos = 0\n",
    "    count = 1\n",
    "\n",
    "    for i in range(1, n):\n",
    "        if chars[i] == chars[i - 1]:\n",
    "            count += 1\n",
    "        else:\n",
    "            chars[write_pos] = chars[i - 1]\n",
    "            write_pos += 1\n",
    "\n",
    "            if count > 1:\n",
    "                count_str = str(count)\n",
    "                for digit in count_str:\n",
    "                    chars[write_pos] = digit\n",
    "                    write_pos += 1\n",
    "\n",
    "            count = 1\n",
    "\n",
    "    chars[write_pos] = chars[n - 1]\n",
    "    write_pos += 1\n",
    "\n",
    "    if count > 1:\n",
    "        count_str = str(count)\n",
    "        for digit in count_str:\n",
    "            chars[write_pos] = digit\n",
    "            write_pos += 1\n",
    "\n",
    "    return write_pos\n",
    "\n",
    "chars = [\"a\", \"a\", \"b\", \"b\", \"c\", \"c\", \"c\"]\n",
    "result = compress(chars)\n",
    "print(result) \n",
    "print(chars[:result])  "
   ]
  },
  {
   "cell_type": "markdown",
   "id": "c42afe9c",
   "metadata": {},
   "source": [
    "# Q6.\n",
    "### Given two strings s and p, return *an array of all the start indices of* p*'s anagrams in* s. You may return the answer in **any order**. An **Anagram** is a word or phrase formed by rearranging the letters of a different word or phrase, typically using all the original letters exactly once.\n",
    "\n",
    "### **Example 1:**\n",
    "\n",
    "### **Input:** s = \"cbaebabacd\", p = \"abc\"\n",
    "\n",
    "### **Output:** [0,6]"
   ]
  },
  {
   "cell_type": "code",
   "execution_count": 12,
   "id": "9ece2a81",
   "metadata": {},
   "outputs": [
    {
     "name": "stdout",
     "output_type": "stream",
     "text": [
      "[0, 6]\n"
     ]
    }
   ],
   "source": [
    "def findAnagrams(s, p):\n",
    "    p_count = [0] * 26\n",
    "    s_count = [0] * 26\n",
    "    result = []\n",
    "    \n",
    "    def charToIndex(ch):\n",
    "        return ord(ch) - ord('a')\n",
    "    \n",
    "    def isCountEqual(arr1, arr2):\n",
    "        for i in range(26):\n",
    "            if arr1[i] != arr2[i]:\n",
    "                return False\n",
    "        return True\n",
    "    \n",
    "    for i in range(len(p)):\n",
    "        p_count[charToIndex(p[i])] += 1\n",
    "        s_count[charToIndex(s[i])] += 1\n",
    "    \n",
    "    if isCountEqual(p_count, s_count):\n",
    "        result.append(0)\n",
    "    \n",
    "    for i in range(len(p), len(s)):\n",
    "        s_count[charToIndex(s[i - len(p)])] -= 1\n",
    "        s_count[charToIndex(s[i])] += 1\n",
    "        \n",
    "        if isCountEqual(p_count, s_count):\n",
    "            result.append(i - len(p) + 1)\n",
    "    \n",
    "    return result\n",
    "\n",
    "s = \"cbaebabacd\"\n",
    "p = \"abc\"\n",
    "result = findAnagrams(s, p)\n",
    "print(result)  \n"
   ]
  },
  {
   "cell_type": "markdown",
   "id": "c91eb4e1",
   "metadata": {},
   "source": [
    "# Q7.\n",
    "### Given an encoded string, return its decoded string.\n",
    "\n",
    "### The encoding rule is: k[encoded_string], where the encoded_string inside the square brackets is being repeated exactly k times. Note that k is guaranteed to be a positive integer.\n",
    "\n",
    "### You may assume that the input string is always valid; there are no extra white spaces, square brackets are well-formed, etc. Furthermore, you may assume that the original data does not contain any digits and that digits are only for those repeat numbers, k. For example, there will not be input like 3a or 2[4].\n",
    "\n",
    "### The test cases are generated so that the length of the output will never exceed 105.\n",
    "\n",
    "### **Example 1:**\n",
    "\n",
    "### **Input:** s = \"3[a]2[bc]\"\n",
    "\n",
    "### **Output:** \"aaabcbc\""
   ]
  },
  {
   "cell_type": "code",
   "execution_count": 13,
   "id": "fb23475c",
   "metadata": {},
   "outputs": [
    {
     "name": "stdout",
     "output_type": "stream",
     "text": [
      "(3, 'aaa')\n"
     ]
    }
   ],
   "source": [
    "def decodeString(s):\n",
    "    def decode(s, i):\n",
    "        decoded_str = \"\"\n",
    "        repeat_count = 0\n",
    "        \n",
    "        while i < len(s):\n",
    "            if s[i].isdigit():\n",
    "                repeat_count = repeat_count * 10 + int(s[i])\n",
    "                i += 1\n",
    "            elif s[i] == '[':\n",
    "                i, inner_decoded_str = decode(s, i + 1)\n",
    "                decoded_str += repeat_count * inner_decoded_str\n",
    "                repeat_count = 0\n",
    "            elif s[i] == ']':\n",
    "                return i, decoded_str\n",
    "            else:\n",
    "                decoded_str += s[i]\n",
    "                i += 1\n",
    "        \n",
    "        return decoded_str\n",
    "    \n",
    "    return decode(s, 0)\n",
    "\n",
    "s = \"3[a]2[bc]\"\n",
    "result = decodeString(s)\n",
    "print(result) \n"
   ]
  },
  {
   "cell_type": "markdown",
   "id": "a32f604c",
   "metadata": {},
   "source": [
    "# Q8.\n",
    "### Given two strings s and goal, return true *if you can swap two letters in* s *so the result is equal to* goal*, otherwise, return* false*.*\n",
    "\n",
    "### Swapping letters is defined as taking two indices i and j (0-indexed) such that i != j and swapping the characters at s[i] and s[j].\n",
    "\n",
    "### - For example, swapping at indices 0 and 2 in \"abcd\" results in \"cbad\".\n",
    "\n",
    "### **Example 1:**\n",
    "\n",
    "### **Input:** s = \"ab\", goal = \"ba\"\n",
    "\n",
    "### **Output:** true"
   ]
  },
  {
   "cell_type": "code",
   "execution_count": 14,
   "id": "60eb4ed5",
   "metadata": {},
   "outputs": [
    {
     "name": "stdout",
     "output_type": "stream",
     "text": [
      "True\n"
     ]
    }
   ],
   "source": [
    "def buddyStrings(s, goal):\n",
    "    if len(s) != len(goal):\n",
    "        return False\n",
    "\n",
    "    if s == goal:\n",
    "        \n",
    "        return len(set(s)) < len(s)\n",
    "\n",
    "    mismatched_indices = []\n",
    "    for i in range(len(s)):\n",
    "        if s[i] != goal[i]:\n",
    "            mismatched_indices.append(i)\n",
    "\n",
    "    return len(mismatched_indices) == 2 and s[mismatched_indices[0]] == goal[mismatched_indices[1]] and s[mismatched_indices[1]] == goal[mismatched_indices[0]]\n",
    "\n",
    "s = \"ab\"\n",
    "goal = \"ba\"\n",
    "result = buddyStrings(s, goal)\n",
    "print(result)\n"
   ]
  },
  {
   "cell_type": "code",
   "execution_count": null,
   "id": "f2e5b362",
   "metadata": {},
   "outputs": [],
   "source": []
  }
 ],
 "metadata": {
  "kernelspec": {
   "display_name": "Python 3 (ipykernel)",
   "language": "python",
   "name": "python3"
  },
  "language_info": {
   "codemirror_mode": {
    "name": "ipython",
    "version": 3
   },
   "file_extension": ".py",
   "mimetype": "text/x-python",
   "name": "python",
   "nbconvert_exporter": "python",
   "pygments_lexer": "ipython3",
   "version": "3.10.9"
  }
 },
 "nbformat": 4,
 "nbformat_minor": 5
}
