{
 "cells": [
  {
   "cell_type": "markdown",
   "id": "5472766b",
   "metadata": {},
   "source": [
    "# Q1.\n",
    "### Given a singly linked list, delete **middle** of the linked list. For example, if given linked list is 1->2->**3**->4->5 then linked list should be modified to 1->2->4->5.If there are **even** nodes, then there would be **two middle** nodes, we need to delete the second middle element. For example, if given linked list is 1->2->3->4->5->6 then it should be modified to 1->2->3->5->6.If the input linked list is NULL or has 1 node, then it should return NULL\n",
    "\n",
    "### **Example 1:**\n",
    "### Input:\n",
    "### LinkedList: 1->2->3->4->5\n",
    "### Output:1 2 4 5"
   ]
  },
  {
   "cell_type": "code",
   "execution_count": null,
   "id": "492287f1",
   "metadata": {},
   "outputs": [],
   "source": []
  },
  {
   "cell_type": "markdown",
   "id": "1e828a87",
   "metadata": {},
   "source": [
    "# Q2.\n",
    "### Given a linked list of **N** nodes. The task is to check if the linked list has a loop. Linked list can contain self loop.\n",
    "\n",
    "### **Example 1:**\n",
    "### Input:\n",
    "### N = 4\n",
    "### value[] = {1,8,3,4}\n",
    "### x = 0\n",
    "### Output:False\n",
    "### Explanation:For N = 4 ,x = 0 means then lastNode->next = NULL, then the Linked list does not contains any loop."
   ]
  },
  {
   "cell_type": "code",
   "execution_count": null,
   "id": "112878a0",
   "metadata": {},
   "outputs": [],
   "source": []
  },
  {
   "cell_type": "markdown",
   "id": "bdc6ce13",
   "metadata": {},
   "source": [
    "# Q3.\n",
    "### Given a linked list consisting of **L** nodes and given a number **N**. The task is to find the **N**th node from the end of the linked list.\n",
    "\n",
    "### **Example 1:**\n",
    "### Input:\n",
    "### N = 2\n",
    "### LinkedList: 1->2->3->4->5->6->7->8->9\n",
    "### Output:8\n",
    "### Explanation:In the first example, there are 9 nodes in linked list and we need to find 2nd node from end. 2nd node from end is 8."
   ]
  },
  {
   "cell_type": "code",
   "execution_count": null,
   "id": "b94fc87a",
   "metadata": {},
   "outputs": [],
   "source": []
  },
  {
   "cell_type": "markdown",
   "id": "64c5a07d",
   "metadata": {},
   "source": [
    "# Q4.\n",
    "### Given a singly linked list of characters, write a function that returns true if the given list is a palindrome, else false.\n",
    "### Examples\n",
    "\n",
    "### **Input**: R->A->D->A->R->NULL\n",
    "### **Output:** Yes\n",
    "### **Input:** C->O->D->E->NULL\n",
    "### **Output:** No\n"
   ]
  },
  {
   "cell_type": "code",
   "execution_count": null,
   "id": "d1aa53e5",
   "metadata": {},
   "outputs": [],
   "source": []
  },
  {
   "cell_type": "markdown",
   "id": "b032d5dd",
   "metadata": {},
   "source": [
    "# Q5.\n",
    "### Given a linked list of **N** nodes such that it may contain a loop.\n",
    "### A loop here means that the last node of the link list is connected to the node at position X(1-based index). If the link list does not have any loop, X=0.\n",
    "\n",
    "### Remove the loop from the linked list, if it is present, i.e. unlink the last node which is forming the loop.\n",
    "\n",
    "### **Example 1:**\n",
    "### Input:\n",
    "### N = 4\n",
    "### value[] = {1,8,3,4}\n",
    "### X = 0\n",
    "### Output:1\n",
    "### Explanation:The Linked list does not contains any loop."
   ]
  },
  {
   "cell_type": "code",
   "execution_count": null,
   "id": "ebfd6057",
   "metadata": {},
   "outputs": [],
   "source": []
  },
  {
   "cell_type": "markdown",
   "id": "2703847b",
   "metadata": {},
   "source": [
    "# Q6.\n",
    "### Given a linked list and two integers M and N. Traverse the linked list such that you retain M nodes then delete next N nodes, continue the same till end of the linked list.\n",
    "\n",
    "### Difficulty Level: Rookie\n",
    "\n",
    "### **Examples**:\n",
    "### Input:\n",
    "### M = 2, N = 2\n",
    "### Linked List: 1->2->3->4->5->6->7->8\n",
    "### Output:\n",
    "### Linked List: 1->2->5->6"
   ]
  },
  {
   "cell_type": "code",
   "execution_count": null,
   "id": "eb21f3bf",
   "metadata": {},
   "outputs": [],
   "source": []
  },
  {
   "cell_type": "markdown",
   "id": "82af494a",
   "metadata": {},
   "source": [
    "# Q7.\n",
    "### Given two linked lists, insert nodes of second list into first list at alternate positions of first list.\n",
    "### For example, if first list is 5->7->17->13->11 and second is 12->10->2->4->6, the first list should become 5->12->7->10->17->2->13->4->11->6 and second list should become empty. The nodes of second list should only be inserted when there are positions available. For example, if the first list is 1->2->3 and second list is 4->5->6->7->8, then first list should become 1->4->2->5->3->6 and second list to 7->8.\n",
    "\n",
    "### Use of extra space is not allowed (Not allowed to create additional nodes), i.e., insertion must be done in-place. Expected time complexity is O(n) where n is number of nodes in first list."
   ]
  },
  {
   "cell_type": "code",
   "execution_count": null,
   "id": "386ff92a",
   "metadata": {},
   "outputs": [],
   "source": []
  },
  {
   "cell_type": "markdown",
   "id": "53055010",
   "metadata": {},
   "source": [
    "# Q8.\n",
    "### Given a singly linked list, find if the linked list is [circular](https://www.geeksforgeeks.org/circular-linked-list/amp/) or not.\n",
    "\n",
    "### A linked list is called circular if it is not NULL-terminated and all nodes are connected in the form of a cycle. Below is an example of a circular linked list.\n"
   ]
  },
  {
   "cell_type": "code",
   "execution_count": null,
   "id": "91b3148a",
   "metadata": {},
   "outputs": [],
   "source": []
  }
 ],
 "metadata": {
  "kernelspec": {
   "display_name": "Python 3 (ipykernel)",
   "language": "python",
   "name": "python3"
  },
  "language_info": {
   "codemirror_mode": {
    "name": "ipython",
    "version": 3
   },
   "file_extension": ".py",
   "mimetype": "text/x-python",
   "name": "python",
   "nbconvert_exporter": "python",
   "pygments_lexer": "ipython3",
   "version": "3.10.9"
  }
 },
 "nbformat": 4,
 "nbformat_minor": 5
}
