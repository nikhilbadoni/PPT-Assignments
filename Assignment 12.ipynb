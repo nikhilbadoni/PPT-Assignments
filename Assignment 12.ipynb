{
 "cells": [
  {
   "cell_type": "markdown",
   "id": "5472766b",
   "metadata": {},
   "source": [
    "# Q1.\n",
    "### Given a singly linked list, delete **middle** of the linked list. For example, if given linked list is 1->2->**3**->4->5 then linked list should be modified to 1->2->4->5.If there are **even** nodes, then there would be **two middle** nodes, we need to delete the second middle element. For example, if given linked list is 1->2->3->4->5->6 then it should be modified to 1->2->3->5->6.If the input linked list is NULL or has 1 node, then it should return NULL\n",
    "\n",
    "### **Example 1:**\n",
    "### Input:\n",
    "### LinkedList: 1->2->3->4->5\n",
    "### Output:1 2 4 5"
   ]
  },
  {
   "cell_type": "code",
   "execution_count": 1,
   "id": "492287f1",
   "metadata": {},
   "outputs": [
    {
     "name": "stdout",
     "output_type": "stream",
     "text": [
      "Original linked list:\n",
      "1 2 3 4 5 \n",
      "Modified linked list:\n",
      "1 2 4 5 \n"
     ]
    }
   ],
   "source": [
    "class ListNode:\n",
    "    def __init__(self, val=0, next=None):\n",
    "        self.val = val\n",
    "        self.next = next\n",
    "\n",
    "def delete_middle_node(head):\n",
    "    if not head or not head.next:\n",
    "        return None\n",
    "\n",
    "    slow, fast = head, head\n",
    "    prev_slow = None\n",
    "\n",
    "    while fast and fast.next:\n",
    "        fast = fast.next.next\n",
    "        prev_slow = slow\n",
    "        slow = slow.next\n",
    "\n",
    "    prev_slow.next = slow.next\n",
    "\n",
    "    return head\n",
    "\n",
    "def print_linked_list(head):\n",
    "    current = head\n",
    "    while current:\n",
    "        print(current.val, end=\" \")\n",
    "        current = current.next\n",
    "    print()\n",
    "\n",
    "# Example Test \n",
    "\n",
    "head = ListNode(1)\n",
    "head.next = ListNode(2)\n",
    "head.next.next = ListNode(3)\n",
    "head.next.next.next = ListNode(4)\n",
    "head.next.next.next.next = ListNode(5)\n",
    "\n",
    "print(\"Original linked list:\")\n",
    "print_linked_list(head)\n",
    "\n",
    "head = delete_middle_node(head)\n",
    "\n",
    "print(\"Modified linked list:\")\n",
    "print_linked_list(head)\n"
   ]
  },
  {
   "cell_type": "markdown",
   "id": "1e828a87",
   "metadata": {},
   "source": [
    "# Q2.\n",
    "### Given a linked list of **N** nodes. The task is to check if the linked list has a loop. Linked list can contain self loop.\n",
    "\n",
    "### **Example 1:**\n",
    "### Input:\n",
    "### N = 4\n",
    "### value[] = {1,8,3,4}\n",
    "### x = 0\n",
    "### Output:False\n",
    "### Explanation:For N = 4 ,x = 0 means then lastNode->next = NULL, then the Linked list does not contains any loop."
   ]
  },
  {
   "cell_type": "code",
   "execution_count": 2,
   "id": "112878a0",
   "metadata": {},
   "outputs": [
    {
     "name": "stdout",
     "output_type": "stream",
     "text": [
      "False\n"
     ]
    }
   ],
   "source": [
    "class ListNode:\n",
    "    def __init__(self, val=0, next=None):\n",
    "        self.val = val\n",
    "        self.next = next\n",
    "\n",
    "def has_loop(head):\n",
    "    if not head or not head.next:\n",
    "        return False\n",
    "\n",
    "    slow, fast = head, head\n",
    "\n",
    "    while fast and fast.next:\n",
    "        slow = slow.next\n",
    "        fast = fast.next.next\n",
    "\n",
    "        if slow == fast:\n",
    "            return True\n",
    "\n",
    "    return False\n",
    "\n",
    "# Example Test\n",
    "\n",
    "head = ListNode(1)\n",
    "head.next = ListNode(8)\n",
    "head.next.next = ListNode(3)\n",
    "head.next.next.next = ListNode(4)\n",
    "\n",
    "result = has_loop(head)\n",
    "print(result) \n"
   ]
  },
  {
   "cell_type": "markdown",
   "id": "bdc6ce13",
   "metadata": {},
   "source": [
    "# Q3.\n",
    "### Given a linked list consisting of **L** nodes and given a number **N**. The task is to find the **N**th node from the end of the linked list.\n",
    "\n",
    "### **Example 1:**\n",
    "### Input:\n",
    "### N = 2\n",
    "### LinkedList: 1->2->3->4->5->6->7->8->9\n",
    "### Output:8\n",
    "### Explanation:In the first example, there are 9 nodes in linked list and we need to find 2nd node from end. 2nd node from end is 8."
   ]
  },
  {
   "cell_type": "code",
   "execution_count": 3,
   "id": "b94fc87a",
   "metadata": {},
   "outputs": [
    {
     "name": "stdout",
     "output_type": "stream",
     "text": [
      "8\n"
     ]
    }
   ],
   "source": [
    "class ListNode:\n",
    "    def __init__(self, val=0, next=None):\n",
    "        self.val = val\n",
    "        self.next = next\n",
    "\n",
    "def find_nth_from_end(head, N):\n",
    "    if not head or N <= 0:\n",
    "        return None\n",
    "\n",
    "    first_ptr = head\n",
    "    second_ptr = head\n",
    "\n",
    "    for _ in range(N):\n",
    "        if second_ptr is None:\n",
    "            return None\n",
    "        second_ptr = second_ptr.next\n",
    "\n",
    "    while second_ptr:\n",
    "        first_ptr = first_ptr.next\n",
    "        second_ptr = second_ptr.next\n",
    "\n",
    "    return first_ptr.val\n",
    "\n",
    "# Example Test\n",
    "head = ListNode(1)\n",
    "current = head\n",
    "for i in range(2, 10):\n",
    "    current.next = ListNode(i)\n",
    "    current = current.next\n",
    "\n",
    "N = 2\n",
    "result = find_nth_from_end(head, N)\n",
    "print(result)  \n"
   ]
  },
  {
   "cell_type": "markdown",
   "id": "64c5a07d",
   "metadata": {},
   "source": [
    "# Q4.\n",
    "### Given a singly linked list of characters, write a function that returns true if the given list is a palindrome, else false.\n",
    "### Examples\n",
    "\n",
    "### **Input**: R->A->D->A->R->NULL\n",
    "### **Output:** Yes\n",
    "### **Input:** C->O->D->E->NULL\n",
    "### **Output:** No\n"
   ]
  },
  {
   "cell_type": "code",
   "execution_count": 4,
   "id": "d1aa53e5",
   "metadata": {},
   "outputs": [
    {
     "name": "stdout",
     "output_type": "stream",
     "text": [
      "True\n",
      "False\n"
     ]
    }
   ],
   "source": [
    "class ListNode:\n",
    "    def __init__(self, val=0, next=None):\n",
    "        self.val = val\n",
    "        self.next = next\n",
    "\n",
    "def is_palindrome(head):\n",
    "    if not head or not head.next:\n",
    "        return True\n",
    "\n",
    "    chars = []\n",
    "    current = head\n",
    "    while current:\n",
    "        chars.append(current.val)\n",
    "        current = current.next\n",
    "\n",
    "    current = head\n",
    "    while current and chars:\n",
    "        if current.val != chars.pop():\n",
    "            return False\n",
    "        current = current.next\n",
    "\n",
    "    return True\n",
    "\n",
    "def create_linked_list(chars):\n",
    "    if not chars:\n",
    "        return None\n",
    "    head = ListNode(chars[0])\n",
    "    current = head\n",
    "    for char in chars[1:]:\n",
    "        current.next = ListNode(char)\n",
    "        current = current.next\n",
    "    return head\n",
    "\n",
    "# Example Test\n",
    "linked_list1 = create_linked_list(['R', 'A', 'D', 'A', 'R'])  \n",
    "linked_list2 = create_linked_list(['C', 'O', 'D', 'E'])  \n",
    "\n",
    "print(is_palindrome(linked_list1))  \n",
    "print(is_palindrome(linked_list2)) \n"
   ]
  },
  {
   "cell_type": "markdown",
   "id": "b032d5dd",
   "metadata": {},
   "source": [
    "# Q5.\n",
    "### Given a linked list of **N** nodes such that it may contain a loop.\n",
    "### A loop here means that the last node of the link list is connected to the node at position X(1-based index). If the link list does not have any loop, X=0.\n",
    "\n",
    "### Remove the loop from the linked list, if it is present, i.e. unlink the last node which is forming the loop.\n",
    "\n",
    "### **Example 1:**\n",
    "### Input:\n",
    "### N = 4\n",
    "### value[] = {1,8,3,4}\n",
    "### X = 0\n",
    "### Output:1\n",
    "### Explanation:The Linked list does not contains any loop."
   ]
  },
  {
   "cell_type": "code",
   "execution_count": 5,
   "id": "ebfd6057",
   "metadata": {},
   "outputs": [
    {
     "name": "stdout",
     "output_type": "stream",
     "text": [
      "1 -> 8 -> 3 -> 4 -> None\n"
     ]
    }
   ],
   "source": [
    "class ListNode:\n",
    "    def __init__(self, val=0):\n",
    "        self.val = val\n",
    "        self.next = None\n",
    "\n",
    "def detectAndRemoveLoop(head):\n",
    "    slow = head\n",
    "    fast = head\n",
    "\n",
    "    while fast and fast.next:\n",
    "        slow = slow.next\n",
    "        fast = fast.next.next\n",
    "\n",
    "        if slow == fast:\n",
    "            break\n",
    "\n",
    "    if not fast or not fast.next:\n",
    "        return head\n",
    "\n",
    "    slow = head\n",
    "    while slow != fast:\n",
    "        slow = slow.next\n",
    "        fast = fast.next\n",
    "\n",
    "    while fast.next != slow:\n",
    "        fast = fast.next\n",
    "\n",
    "    fast.next = None\n",
    "\n",
    "    return head\n",
    "\n",
    "def createLinkedList(values):\n",
    "    dummy = ListNode()\n",
    "    current = dummy\n",
    "    for val in values:\n",
    "        current.next = ListNode(val)\n",
    "        current = current.next\n",
    "    return dummy.next\n",
    "\n",
    "def printLinkedList(head):\n",
    "    current = head\n",
    "    while current:\n",
    "        print(current.val, end=\" -> \")\n",
    "        current = current.next\n",
    "    print(\"None\")\n",
    "\n",
    "# Example Test\n",
    "values = [1, 8, 3, 4]\n",
    "head = createLinkedList(values)\n",
    "head = detectAndRemoveLoop(head)\n",
    "printLinkedList(head) \n"
   ]
  },
  {
   "cell_type": "markdown",
   "id": "2703847b",
   "metadata": {},
   "source": [
    "# Q6.\n",
    "### Given a linked list and two integers M and N. Traverse the linked list such that you retain M nodes then delete next N nodes, continue the same till end of the linked list.\n",
    "\n",
    "### Difficulty Level: Rookie\n",
    "\n",
    "### **Examples**:\n",
    "### Input:\n",
    "### M = 2, N = 2\n",
    "### Linked List: 1->2->3->4->5->6->7->8\n",
    "### Output:\n",
    "### Linked List: 1->2->5->6"
   ]
  },
  {
   "cell_type": "code",
   "execution_count": 6,
   "id": "eb21f3bf",
   "metadata": {},
   "outputs": [
    {
     "name": "stdout",
     "output_type": "stream",
     "text": [
      "1 -> 2 -> 5 -> 6 -> None\n"
     ]
    }
   ],
   "source": [
    "class ListNode:\n",
    "    def __init__(self, val=0, next=None):\n",
    "        self.val = val\n",
    "        self.next = next\n",
    "\n",
    "def skip_and_delete(head, M, N):\n",
    "    if not head or M <= 0 or N <= 0:\n",
    "        return None\n",
    "\n",
    "    current = head\n",
    "    prev = None\n",
    "\n",
    "    while current:\n",
    "        for _ in range(M):\n",
    "            if not current:\n",
    "                break\n",
    "            prev = current\n",
    "            current = current.next\n",
    "\n",
    "        for _ in range(N):\n",
    "            if not current:\n",
    "                break\n",
    "            current = current.next\n",
    "\n",
    "        prev.next = current\n",
    "\n",
    "    return head\n",
    "\n",
    "def create_linked_list(values):\n",
    "    if not values:\n",
    "        return None\n",
    "\n",
    "    head = ListNode(values[0])\n",
    "    current = head\n",
    "    for val in values[1:]:\n",
    "        current.next = ListNode(val)\n",
    "        current = current.next\n",
    "\n",
    "    return head\n",
    "\n",
    "def print_linked_list(head):\n",
    "    current = head\n",
    "    while current:\n",
    "        print(current.val, end=\" -> \")\n",
    "        current = current.next\n",
    "    print(\"None\")\n",
    "\n",
    "# Example Test\n",
    "\n",
    "linked_list = create_linked_list([1, 2, 3, 4, 5, 6, 7, 8])\n",
    "\n",
    "M = 2\n",
    "N = 2\n",
    "new_head = skip_and_delete(linked_list, M, N)\n",
    "\n",
    "print_linked_list(new_head)  \n"
   ]
  },
  {
   "cell_type": "markdown",
   "id": "82af494a",
   "metadata": {},
   "source": [
    "# Q7.\n",
    "### Given two linked lists, insert nodes of second list into first list at alternate positions of first list.\n",
    "### For example, if first list is 5->7->17->13->11 and second is 12->10->2->4->6, the first list should become 5->12->7->10->17->2->13->4->11->6 and second list should become empty. The nodes of second list should only be inserted when there are positions available. For example, if the first list is 1->2->3 and second list is 4->5->6->7->8, then first list should become 1->4->2->5->3->6 and second list to 7->8.\n",
    "\n",
    "### Use of extra space is not allowed (Not allowed to create additional nodes), i.e., insertion must be done in-place. Expected time complexity is O(n) where n is number of nodes in first list."
   ]
  },
  {
   "cell_type": "code",
   "execution_count": 14,
   "id": "386ff92a",
   "metadata": {},
   "outputs": [
    {
     "name": "stdout",
     "output_type": "stream",
     "text": [
      "First Linked List:\n",
      "5 -> 12 -> 7 -> 10 -> 17 -> 2 -> 13 -> 4 -> 11 -> 6 -> None\n",
      "Second Linked List:\n",
      "12 -> 10 -> 2 -> 4 -> 6 -> None\n"
     ]
    }
   ],
   "source": [
    "class ListNode:\n",
    "    def __init__(self, val=0):\n",
    "        self.val = val\n",
    "        self.next = None\n",
    "\n",
    "def insertAlternate(head1, head2):\n",
    "    current1 = head1\n",
    "    current2 = head2\n",
    "\n",
    "    while current1 and current2:\n",
    "        next1 = current1.next\n",
    "        next2 = current2.next\n",
    "\n",
    "        current1.next = current2\n",
    "        current2.next = next1\n",
    "\n",
    "        current1 = next1\n",
    "        current2 = next2\n",
    "\n",
    "    head2 = None\n",
    "\n",
    "def createLinkedList(values):\n",
    "    dummy = ListNode()\n",
    "    current = dummy\n",
    "    for val in values:\n",
    "        current.next = ListNode(val)\n",
    "        current = current.next\n",
    "    return dummy.next\n",
    "\n",
    "def printLinkedList(head):\n",
    "    current = head\n",
    "    while current:\n",
    "        print(current.val, end=\" -> \")\n",
    "        current = current.next\n",
    "    print(\"None\")\n",
    "\n",
    "# Example Test\n",
    "values1 = [5, 7, 17, 13, 11]\n",
    "values2 = [12, 10, 2, 4, 6]\n",
    "\n",
    "head1 = createLinkedList(values1)\n",
    "\n",
    "insertAlternate(head1, head2)\n",
    "head2 = createLinkedList(values2)\n",
    "\n",
    "print(\"First Linked List:\")\n",
    "printLinkedList(head1)  \n",
    "\n",
    "print(\"Second Linked List:\")\n",
    "printLinkedList(head2) \n"
   ]
  },
  {
   "cell_type": "markdown",
   "id": "53055010",
   "metadata": {},
   "source": [
    "# Q8.\n",
    "### Given a singly linked list, find if the linked list is [circular](https://www.geeksforgeeks.org/circular-linked-list/amp/) or not.\n",
    "\n",
    "### A linked list is called circular if it is not NULL-terminated and all nodes are connected in the form of a cycle. Below is an example of a circular linked list.\n"
   ]
  },
  {
   "cell_type": "code",
   "execution_count": 8,
   "id": "91b3148a",
   "metadata": {},
   "outputs": [
    {
     "name": "stdout",
     "output_type": "stream",
     "text": [
      "True\n"
     ]
    }
   ],
   "source": [
    "class ListNode:\n",
    "    def __init__(self, val=0, next=None):\n",
    "        self.val = val\n",
    "        self.next = next\n",
    "\n",
    "def is_circular(head):\n",
    "    if not head:\n",
    "        return False\n",
    "\n",
    "    slow, fast = head, head\n",
    "\n",
    "    while fast and fast.next:\n",
    "        slow = slow.next\n",
    "        fast = fast.next.next\n",
    "\n",
    "        if slow == fast:\n",
    "            return True\n",
    "\n",
    "    return False\n",
    "\n",
    "# Example Test\n",
    "head = ListNode(1)\n",
    "head.next = ListNode(2)\n",
    "head.next.next = ListNode(3)\n",
    "head.next.next.next = ListNode(4)\n",
    "head.next.next.next.next = ListNode(5)\n",
    "head.next.next.next.next.next = head.next\n",
    "\n",
    "result = is_circular(head)\n",
    "print(result) \n"
   ]
  }
 ],
 "metadata": {
  "kernelspec": {
   "display_name": "Python 3 (ipykernel)",
   "language": "python",
   "name": "python3"
  },
  "language_info": {
   "codemirror_mode": {
    "name": "ipython",
    "version": 3
   },
   "file_extension": ".py",
   "mimetype": "text/x-python",
   "name": "python",
   "nbconvert_exporter": "python",
   "pygments_lexer": "ipython3",
   "version": "3.10.9"
  }
 },
 "nbformat": 4,
 "nbformat_minor": 5
}
