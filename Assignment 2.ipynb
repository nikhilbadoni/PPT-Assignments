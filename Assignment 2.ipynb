{
 "cells": [
  {
   "cell_type": "markdown",
   "id": "8813d7cd-263d-4c14-b592-f162d75a8c5b",
   "metadata": {},
   "source": [
    "Question 1. \n",
    "Given an integer array nums of 2n integers, group these integers into n pairs (a1, b1), (a2, b2),..., (an, bn) such that the sum of min(ai, bi) for all i is maximized. Return the maximized sum.\n"
   ]
  },
  {
   "cell_type": "code",
   "execution_count": 2,
   "id": "45891996-9c92-4be4-95ab-983febe22163",
   "metadata": {},
   "outputs": [
    {
     "name": "stdout",
     "output_type": "stream",
     "text": [
      "4\n"
     ]
    }
   ],
   "source": [
    "def arrayPairSum(nums):\n",
    "    nums.sort()\n",
    "    max_sum = 0\n",
    "    for i in range(0, len(nums), 2):\n",
    "        max_sum += nums[i]\n",
    "    return max_sum\n",
    "\n",
    "# Test Function\n",
    "nums = [1, 4, 3, 2]\n",
    "print(arrayPairSum(nums))  "
   ]
  },
  {
   "cell_type": "markdown",
   "id": "b5d7e03f-80f3-48c6-a389-f1fec16c6db7",
   "metadata": {},
   "source": [
    "Question 2. \n",
    "Alice has n candies, where the ith candy is of type candyType[i]. Alice noticed that she started to gain weight, so she visited a doctor. \n",
    "\n",
    "The doctor advised Alice to only eat n / 2 of the candies she has (n is always even). Alice likes her candies very much, and she wants to eat the maximum number of different types of candies while still following the doctor's advice. \n",
    "\n",
    "Given the integer array candyType of length n, return the maximum number of different types of candies she can eat if she only eats n / 2 of them."
   ]
  },
  {
   "cell_type": "code",
   "execution_count": 3,
   "id": "5debae2e-7416-47ac-9c41-d04e92361205",
   "metadata": {},
   "outputs": [
    {
     "name": "stdout",
     "output_type": "stream",
     "text": [
      "3\n"
     ]
    }
   ],
   "source": [
    "def distributeCandies(candyType):\n",
    "    unique_candies = set()\n",
    "    for candy in candyType:\n",
    "        unique_candies.add(candy)\n",
    "\n",
    "    half_candies = len(candyType) // 2\n",
    "    return min(len(unique_candies), half_candies)\n",
    "\n",
    "# Test Function:\n",
    "candyType = [1, 1, 2, 2, 3, 3]\n",
    "print(distributeCandies(candyType))  \n"
   ]
  },
  {
   "cell_type": "markdown",
   "id": "63cd53f7-5989-4286-b7ab-25c322a5e4a0",
   "metadata": {},
   "source": [
    "Question 3. \n",
    "We define a harmonious array as an array where the difference between its maximum value\n",
    "and its minimum value is exactly 1.\n",
    "\n",
    "Given an integer array nums, return the length of its longest harmonious subsequence\n",
    "among all its possible subsequences.\n",
    "\n",
    "A subsequence of an array is a sequence that can be derived from the array by deleting some or no elements without changing the order of the remaining elements."
   ]
  },
  {
   "cell_type": "code",
   "execution_count": 4,
   "id": "ce44151e-f09a-4c34-a407-7c3c207ae882",
   "metadata": {},
   "outputs": [
    {
     "name": "stdout",
     "output_type": "stream",
     "text": [
      "5\n"
     ]
    }
   ],
   "source": [
    "def findLHS(nums):\n",
    "    counter = {}\n",
    "    for num in nums:\n",
    "        if num in counter:\n",
    "            counter[num] += 1\n",
    "        else:\n",
    "            counter[num] = 1\n",
    "\n",
    "    max_length = 0\n",
    "    for num in counter:\n",
    "        if num + 1 in counter:\n",
    "            max_length = max(max_length, counter[num] + counter[num + 1])\n",
    "\n",
    "    return max_length\n",
    "\n",
    "# Test Function\n",
    "nums = [1, 3, 2, 2, 5, 2, 3, 7]\n",
    "print(findLHS(nums))  \n",
    "\n"
   ]
  },
  {
   "cell_type": "markdown",
   "id": "f3445f61-7b4b-47eb-8f9b-c347b961e41c",
   "metadata": {},
   "source": [
    "Question 4.\n",
    "You have a long flowerbed in which some of the plots are planted, and some are not.\n",
    "However, flowers cannot be planted in adjacent plots.\n",
    "Given an integer array flowerbed containing 0's and 1's, where 0 means empty and 1 means not empty, and an integer n, return true if n new flowers can be planted in the flowerbed without violating the no-adjacent-flowers rule and false otherwise."
   ]
  },
  {
   "cell_type": "code",
   "execution_count": 5,
   "id": "09d87a0f-8bd9-48d0-922b-8f68a0ad8430",
   "metadata": {},
   "outputs": [
    {
     "name": "stdout",
     "output_type": "stream",
     "text": [
      "True\n"
     ]
    }
   ],
   "source": [
    "def canPlaceFlowers(flowerbed, n):\n",
    "    count = 0\n",
    "    length = len(flowerbed)\n",
    "\n",
    "    for i in range(length):\n",
    "        if (\n",
    "            flowerbed[i] == 0 and\n",
    "            (i == 0 or flowerbed[i - 1] == 0) and\n",
    "            (i == length - 1 or flowerbed[i + 1] == 0)\n",
    "        ):\n",
    "            flowerbed[i] = 1\n",
    "            count += 1\n",
    "            n -= 1\n",
    "            if n == 0:\n",
    "                return True\n",
    "\n",
    "    return count >= n\n",
    "\n",
    "# Test Function\n",
    "flowerbed = [1, 0, 0, 0, 1]\n",
    "n = 1\n",
    "print(canPlaceFlowers(flowerbed, n))  \n"
   ]
  },
  {
   "cell_type": "markdown",
   "id": "0d1ba85c-1007-470b-933b-2cbb7e4e81a7",
   "metadata": {},
   "source": [
    "Question 5.\n",
    "Given an integer array nums, find three numbers whose product is maximum and return the maximum product."
   ]
  },
  {
   "cell_type": "code",
   "execution_count": 6,
   "id": "52a250ef-f30d-4828-aeaa-9c34b811e73b",
   "metadata": {},
   "outputs": [
    {
     "name": "stdout",
     "output_type": "stream",
     "text": [
      "6\n"
     ]
    }
   ],
   "source": [
    "def maximumProduct(nums):\n",
    "    nums.sort()\n",
    "    max_product = nums[-1] * nums[-2] * nums[-3]\n",
    "    return max(max_product, nums[0] * nums[1] * nums[-1])\n",
    "\n",
    "# Test Function\n",
    "nums = [1, 2, 3]\n",
    "print(maximumProduct(nums))  \n"
   ]
  },
  {
   "cell_type": "markdown",
   "id": "be5d2466-ecf4-4e9a-874b-c194e78322a9",
   "metadata": {},
   "source": [
    "Question 6.\n",
    "Given an array of integers nums which is sorted in ascending order, and an integer target,\n",
    "write a function to search target in nums. If target exists, then return its index. Otherwise,\n",
    "return -1.\n",
    "\n",
    "You must write an algorithm with O(log n) runtime complexity."
   ]
  },
  {
   "cell_type": "code",
   "execution_count": 7,
   "id": "6bd2b917-0964-4b6a-ad31-5a4556b94f57",
   "metadata": {},
   "outputs": [
    {
     "name": "stdout",
     "output_type": "stream",
     "text": [
      "4\n"
     ]
    }
   ],
   "source": [
    "def search(nums, target):\n",
    "    left, right = 0, len(nums) - 1\n",
    "\n",
    "    while left <= right:\n",
    "        mid = (left + right) // 2\n",
    "\n",
    "        if nums[mid] == target:\n",
    "            return mid\n",
    "        elif nums[mid] < target:\n",
    "            left = mid + 1\n",
    "        else:\n",
    "            right = mid - 1\n",
    "\n",
    "    return -1\n",
    "\n",
    "# Test Function\n",
    "nums = [-1, 0, 3, 5, 9, 12]\n",
    "target = 9\n",
    "print(search(nums, target))  \n"
   ]
  },
  {
   "cell_type": "markdown",
   "id": "e0543dc7-d615-4e5b-b2b5-aceddda4ccef",
   "metadata": {},
   "source": [
    "Question 7.\n",
    "An array is monotonic if it is either monotone increasing or monotone decreasing.\n",
    "\n",
    "An array nums is monotone increasing if for all i <= j, nums[i] <= nums[j]. An array nums is\n",
    "monotone decreasing if for all i <= j, nums[i] >= nums[j].\n",
    "\n",
    "Given an integer array nums, return true if the given array is monotonic, or false otherwise.\n"
   ]
  },
  {
   "cell_type": "code",
   "execution_count": 8,
   "id": "d2730475-ec11-47fd-9aa9-c6a8178bf637",
   "metadata": {},
   "outputs": [
    {
     "name": "stdout",
     "output_type": "stream",
     "text": [
      "True\n"
     ]
    }
   ],
   "source": [
    "def isMonotonic(nums):\n",
    "    isIncreasing = isDecreasing = True\n",
    "\n",
    "    for i in range(1, len(nums)):\n",
    "        if nums[i] < nums[i-1]:\n",
    "            isIncreasing = False\n",
    "        if nums[i] > nums[i-1]:\n",
    "            isDecreasing = False\n",
    "        if not isIncreasing and not isDecreasing:\n",
    "            return False\n",
    "\n",
    "    return True\n",
    "\n",
    "# Test Function\n",
    "nums = [1, 2, 2, 3]\n",
    "print(isMonotonic(nums))  \n"
   ]
  },
  {
   "cell_type": "code",
   "execution_count": null,
   "id": "e2875105-9c96-4711-85a0-ff2a6e433df7",
   "metadata": {},
   "outputs": [],
   "source": []
  }
 ],
 "metadata": {
  "kernelspec": {
   "display_name": "Python 3 (ipykernel)",
   "language": "python",
   "name": "python3"
  },
  "language_info": {
   "codemirror_mode": {
    "name": "ipython",
    "version": 3
   },
   "file_extension": ".py",
   "mimetype": "text/x-python",
   "name": "python",
   "nbconvert_exporter": "python",
   "pygments_lexer": "ipython3",
   "version": "3.11.3"
  }
 },
 "nbformat": 4,
 "nbformat_minor": 5
}
