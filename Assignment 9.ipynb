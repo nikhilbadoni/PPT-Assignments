{
 "cells": [
  {
   "cell_type": "markdown",
   "id": "a35bb2ce",
   "metadata": {},
   "source": [
    "# Q1.\n",
    "### Given an integer `n`, return *`true` if it is a power of two. Otherwise, return `false`*.\n",
    "\n",
    "### An integer `n` is a power of two, if there exists an integer `x` such that `n == 2x`.\n",
    "\n",
    "### **Example 1:**\n",
    "### Input: n = 1 \n",
    "\n",
    "### Output: true"
   ]
  },
  {
   "cell_type": "code",
   "execution_count": 2,
   "id": "fdc51a99",
   "metadata": {},
   "outputs": [
    {
     "name": "stdout",
     "output_type": "stream",
     "text": [
      "True\n"
     ]
    }
   ],
   "source": [
    "def isPowerOfTwo(n):\n",
    "    if n <= 0:\n",
    "        return False\n",
    "    return n & (n - 1) == 0\n",
    "\n",
    "n = 1\n",
    "result = isPowerOfTwo(n)\n",
    "print(result)  "
   ]
  },
  {
   "cell_type": "markdown",
   "id": "e0a8db5e",
   "metadata": {},
   "source": [
    "# Q2.\n",
    "### Given a number n, find the sum of the first natural numbers.\n",
    "\n",
    "### **Example 1:**\n",
    "\n",
    "### Input: n = 3 \n",
    "\n",
    "### Output: 6"
   ]
  },
  {
   "cell_type": "code",
   "execution_count": 3,
   "id": "46bc6b98",
   "metadata": {},
   "outputs": [
    {
     "name": "stdout",
     "output_type": "stream",
     "text": [
      "6\n"
     ]
    }
   ],
   "source": [
    "def sumOfFirstNNumbers(n):\n",
    "    return (n * (n + 1)) // 2\n",
    "\n",
    "n = 3\n",
    "result = sumOfFirstNNumbers(n)\n",
    "print(result)  \n"
   ]
  },
  {
   "cell_type": "markdown",
   "id": "6596828e",
   "metadata": {},
   "source": [
    "# Q3.\n",
    "### Given a positive integer, N. Find the factorial of N. \n",
    "\n",
    "### **Example 1:**\n",
    "\n",
    "### Input: N = 5 \n",
    "\n",
    "### Output: 120"
   ]
  },
  {
   "cell_type": "code",
   "execution_count": 4,
   "id": "7c28ca93",
   "metadata": {},
   "outputs": [
    {
     "name": "stdout",
     "output_type": "stream",
     "text": [
      "120\n"
     ]
    }
   ],
   "source": [
    "def factorial(N):\n",
    "    if N == 0 or N == 1:\n",
    "        return 1\n",
    "    \n",
    "    result = 1\n",
    "    for i in range(2, N + 1):\n",
    "        result *= i\n",
    "    \n",
    "    return result\n",
    "\n",
    "N = 5\n",
    "result = factorial(N)\n",
    "print(result)  \n"
   ]
  },
  {
   "cell_type": "markdown",
   "id": "1a794ec9",
   "metadata": {},
   "source": [
    "# Q4.\n",
    "### Given a number N and a power P, the task is to find the exponent of this number raised to the given power, i.e. N^P.\n",
    "\n",
    "### **Example 1 :** \n",
    "\n",
    "### Input: N = 5, P = 2\n",
    "\n",
    "### Output: 25"
   ]
  },
  {
   "cell_type": "code",
   "execution_count": 5,
   "id": "62daa131",
   "metadata": {},
   "outputs": [
    {
     "name": "stdout",
     "output_type": "stream",
     "text": [
      "25\n"
     ]
    }
   ],
   "source": [
    "def exponent(N, P):\n",
    "    result = N ** P\n",
    "    return result\n",
    "\n",
    "N = 5\n",
    "P = 2\n",
    "result = exponent(N, P)\n",
    "print(result)  \n"
   ]
  },
  {
   "cell_type": "markdown",
   "id": "89b34296",
   "metadata": {},
   "source": [
    "# Q5.\n",
    "### Given an array of integers **arr**, the task is to find maximum element of that array using recursion.\n",
    "\n",
    "### **Example 1:**\n",
    "\n",
    "### Input: arr = {1, 4, 3, -5, -4, 8, 6};\n",
    "### Output: 8"
   ]
  },
  {
   "cell_type": "code",
   "execution_count": 6,
   "id": "c94c1534",
   "metadata": {},
   "outputs": [
    {
     "name": "stdout",
     "output_type": "stream",
     "text": [
      "8\n"
     ]
    }
   ],
   "source": [
    "def findMax(arr):\n",
    "    if len(arr) == 1:\n",
    "        return arr[0]\n",
    "\n",
    "    mid = len(arr) // 2\n",
    "    left_max = findMax(arr[:mid])\n",
    "    right_max = findMax(arr[mid:])\n",
    "\n",
    "    return max(left_max, right_max)\n",
    "\n",
    "arr = [1, 4, 3, -5, -4, 8, 6]\n",
    "result = findMax(arr)\n",
    "print(result)\n"
   ]
  },
  {
   "cell_type": "markdown",
   "id": "9a92a975",
   "metadata": {},
   "source": [
    "# Q6.\n",
    "### Given first term (a), common difference (d) and a integer N of the Arithmetic Progression series, the task is to find Nth term of the series.\n",
    "\n",
    "### **Example 1:**\n",
    "\n",
    "### Input : a = 2 d = 1 N = 5\n",
    "### Output : 6\n",
    "### The 5th term of the series is : 6"
   ]
  },
  {
   "cell_type": "code",
   "execution_count": 7,
   "id": "10b81fd0",
   "metadata": {},
   "outputs": [
    {
     "name": "stdout",
     "output_type": "stream",
     "text": [
      "6\n"
     ]
    }
   ],
   "source": [
    "def findNthTerm(a, d, N):\n",
    "    nth_term = a + (N - 1) * d\n",
    "    return nth_term\n",
    "\n",
    "a = 2\n",
    "d = 1\n",
    "N = 5\n",
    "result = findNthTerm(a, d, N)\n",
    "print(result)  \n"
   ]
  },
  {
   "cell_type": "markdown",
   "id": "5fba700b",
   "metadata": {},
   "source": [
    "# Q7.\n",
    "### Given a string S, the task is to write a program to print all permutations of a given string.\n",
    "\n",
    "### **Example 1:**\n",
    "\n",
    "### ***Input:***\n",
    "\n",
    "### *S = “ABC”*\n",
    "\n",
    "### ***Output:***\n",
    "\n",
    "### *“ABC”, “ACB”, “BAC”, “BCA”, “CBA”, “CAB”*"
   ]
  },
  {
   "cell_type": "code",
   "execution_count": 8,
   "id": "c0e2b665",
   "metadata": {},
   "outputs": [
    {
     "name": "stdout",
     "output_type": "stream",
     "text": [
      "['ABC', 'ACB', 'BAC', 'BCA', 'CBA', 'CAB']\n"
     ]
    }
   ],
   "source": [
    "def permute(S):\n",
    "    result = []\n",
    "    backtrack(list(S), 0, len(S) - 1, result)\n",
    "    return result\n",
    "\n",
    "\n",
    "def backtrack(S, start, end, result):\n",
    "    if start == end:\n",
    "        result.append(\"\".join(S))\n",
    "    else:\n",
    "        for i in range(start, end + 1):\n",
    "            S[start], S[i] = S[i], S[start]\n",
    "            backtrack(S, start + 1, end, result)\n",
    "            S[start], S[i] = S[i], S[start]  # backtrack\n",
    "\n",
    "\n",
    "S = \"ABC\"\n",
    "result = permute(S)\n",
    "print(result)\n"
   ]
  },
  {
   "cell_type": "markdown",
   "id": "8e0ec363",
   "metadata": {},
   "source": [
    "# Q8.\n",
    "### Given an array, find a product of all array elements.\n",
    "\n",
    "### **Example 1:**\n",
    "\n",
    "### Input  : arr[] = {1, 2, 3, 4, 5}\n",
    "### Output : 120"
   ]
  },
  {
   "cell_type": "code",
   "execution_count": 9,
   "id": "6101cd4a",
   "metadata": {},
   "outputs": [
    {
     "name": "stdout",
     "output_type": "stream",
     "text": [
      "120\n"
     ]
    }
   ],
   "source": [
    "def productOfArray(arr):\n",
    "    product = 1\n",
    "    for num in arr:\n",
    "        product *= num\n",
    "    return product\n",
    "\n",
    "arr = [1, 2, 3, 4, 5]\n",
    "result = productOfArray(arr)\n",
    "print(result)  \n"
   ]
  }
 ],
 "metadata": {
  "kernelspec": {
   "display_name": "Python 3 (ipykernel)",
   "language": "python",
   "name": "python3"
  },
  "language_info": {
   "codemirror_mode": {
    "name": "ipython",
    "version": 3
   },
   "file_extension": ".py",
   "mimetype": "text/x-python",
   "name": "python",
   "nbconvert_exporter": "python",
   "pygments_lexer": "ipython3",
   "version": "3.10.9"
  }
 },
 "nbformat": 4,
 "nbformat_minor": 5
}
