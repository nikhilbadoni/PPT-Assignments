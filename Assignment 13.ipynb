{
 "cells": [
  {
   "cell_type": "markdown",
   "id": "5472766b",
   "metadata": {},
   "source": [
    "# Q1.\n",
    "### Given two linked list of the same size, the task is to create a new linked list using those linked lists. The condition is that the greater node among both linked list will be added to the new linked list.\n",
    "\n",
    "### **Examples:**\n",
    "### Input: list1 = 5->2->3->8\n",
    "### list2 = 1->7->4->5\n",
    "### Output: New list = 5->7->4->8"
   ]
  },
  {
   "cell_type": "code",
   "execution_count": null,
   "id": "492287f1",
   "metadata": {},
   "outputs": [],
   "source": []
  },
  {
   "cell_type": "markdown",
   "id": "1e828a87",
   "metadata": {},
   "source": [
    "# Q2.\n",
    "### Write a function that takes a list sorted in non-decreasing order and deletes any duplicate nodes from the list. The list should only be traversed once.\n",
    "\n",
    "### For example if the linked list is 11->11->11->21->43->43->60 then removeDuplicates() should convert the list to 11->21->43->60.\n",
    "\n",
    "### **Example 1:**\n",
    "### Input:\n",
    "### LinkedList: \n",
    "### 11->11->11->21->43->43->60\n",
    "### Output:\n",
    "### 11->21->43->60"
   ]
  },
  {
   "cell_type": "code",
   "execution_count": null,
   "id": "112878a0",
   "metadata": {},
   "outputs": [],
   "source": []
  },
  {
   "cell_type": "markdown",
   "id": "bdc6ce13",
   "metadata": {},
   "source": [
    "# Q3.\n",
    "### Given a linked list of size **N**. The task is to reverse every **k** nodes (where k is an input to the function) in the linked list. If the number of nodes is not a multiple of *k* then left-out nodes, in the end, should be considered as a group and must be reversed (See Example 2 for clarification).\n",
    "\n",
    "### **Example 1:**\n",
    "### Input:\n",
    "### LinkedList: 1->2->2->4->5->6->7->8\n",
    "### K = 4\n",
    "### Output:4 2 2 1 8 7 6 5\n",
    "### Explanation:\n",
    "### The first 4 elements 1,2,2,4 are reversed first and then the next 4 elements 5,6,7,8. Hence, the resultant linked list is 4->2->2->1->8->7->6->5."
   ]
  },
  {
   "cell_type": "code",
   "execution_count": null,
   "id": "b94fc87a",
   "metadata": {},
   "outputs": [],
   "source": []
  },
  {
   "cell_type": "markdown",
   "id": "64c5a07d",
   "metadata": {},
   "source": [
    "# Q4.\n",
    "### Given a linked list, write a function to reverse every alternate k nodes (where k is an input to the function) in an efficient way. Give the complexity of your algorithm.\n",
    "\n",
    "### **Example:**\n",
    "### Inputs:   1->2->3->4->5->6->7->8->9->NULL and k = 3\n",
    "### Output:   3->2->1->4->5->6->9->8->7->NULL."
   ]
  },
  {
   "cell_type": "code",
   "execution_count": null,
   "id": "d1aa53e5",
   "metadata": {},
   "outputs": [],
   "source": []
  },
  {
   "cell_type": "markdown",
   "id": "b032d5dd",
   "metadata": {},
   "source": [
    "# Q5.\n",
    "### Given a linked list and a key to be deleted. Delete last occurrence of key from linked. The list may have duplicates.\n",
    "\n",
    "### **Examples**:\n",
    "### Input:   1->2->3->5->2->10, key = 2\n",
    "### Output:  1->2->3->5->10"
   ]
  },
  {
   "cell_type": "code",
   "execution_count": null,
   "id": "ebfd6057",
   "metadata": {},
   "outputs": [],
   "source": []
  },
  {
   "cell_type": "markdown",
   "id": "2703847b",
   "metadata": {},
   "source": [
    "# Q6.\n",
    "### Given two sorted linked lists consisting of **N** and **M** nodes respectively. The task is to merge both of the lists (in place) and return the head of the merged list.\n",
    "\n",
    "### **Examples:**\n",
    "\n",
    "### Input: a: 5->10->15, b: 2->3->20\n",
    "\n",
    "### Output: 2->3->5->10->15->20"
   ]
  },
  {
   "cell_type": "code",
   "execution_count": null,
   "id": "eb21f3bf",
   "metadata": {},
   "outputs": [],
   "source": []
  },
  {
   "cell_type": "markdown",
   "id": "82af494a",
   "metadata": {},
   "source": [
    "# Q7.\n",
    "### Given a **Doubly Linked List**, the task is to reverse the given Doubly Linked List.\n",
    "\n",
    "### **Example:**\n",
    "### Original Linked list 10 8 4 2\n",
    "### Reversed Linked list 2 4 8 10"
   ]
  },
  {
   "cell_type": "code",
   "execution_count": null,
   "id": "386ff92a",
   "metadata": {},
   "outputs": [],
   "source": []
  },
  {
   "cell_type": "markdown",
   "id": "53055010",
   "metadata": {},
   "source": [
    "# Q8.\n",
    "### Given a doubly linked list and a position. The task is to delete a node from given position in a doubly linked list.\n",
    "\n",
    "### **Example 1:**\n",
    "### Input:\n",
    "### LinkedList = 1 <--> 3 <--> 4\n",
    "### x = 3\n",
    "### Output:1 3\n",
    "### Explanation:After deleting the node at position 3 (position starts from 1), the linked list will be now as 1->3."
   ]
  },
  {
   "cell_type": "code",
   "execution_count": null,
   "id": "91b3148a",
   "metadata": {},
   "outputs": [],
   "source": []
  }
 ],
 "metadata": {
  "kernelspec": {
   "display_name": "Python 3 (ipykernel)",
   "language": "python",
   "name": "python3"
  },
  "language_info": {
   "codemirror_mode": {
    "name": "ipython",
    "version": 3
   },
   "file_extension": ".py",
   "mimetype": "text/x-python",
   "name": "python",
   "nbconvert_exporter": "python",
   "pygments_lexer": "ipython3",
   "version": "3.10.9"
  }
 },
 "nbformat": 4,
 "nbformat_minor": 5
}
