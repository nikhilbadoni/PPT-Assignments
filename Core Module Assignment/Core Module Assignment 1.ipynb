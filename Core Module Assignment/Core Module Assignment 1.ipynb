{
 "cells": [
  {
   "cell_type": "markdown",
   "id": "68aa4cff",
   "metadata": {},
   "source": [
    "# Core Module | Assignment 1"
   ]
  },
  {
   "cell_type": "markdown",
   "id": "4a74e8e7",
   "metadata": {},
   "source": [
    "# Q1.\n",
    "### Write a Python program to reverse a string without using any built-in string reversal functions."
   ]
  },
  {
   "cell_type": "code",
   "execution_count": 1,
   "id": "52543592",
   "metadata": {},
   "outputs": [
    {
     "name": "stdout",
     "output_type": "stream",
     "text": [
      "Enter the String you want to reverse: Hello\n",
      "olleH\n"
     ]
    }
   ],
   "source": [
    "def reverse_string(input_string):\n",
    "    reversed_string= \"\"\n",
    "    for char in input_string:\n",
    "        reversed_string= char + reversed_string\n",
    "    return reversed_string\n",
    "input_string= input(\"Enter the String you want to reverse: \")\n",
    "reversed_str= reverse_string(input_string)\n",
    "print(reversed_str)"
   ]
  },
  {
   "cell_type": "markdown",
   "id": "a8e3ed59",
   "metadata": {},
   "source": [
    "# Q2.\n",
    "### Implement a function to check if a given string is a palindrome."
   ]
  },
  {
   "cell_type": "code",
   "execution_count": 7,
   "id": "bad57b8c",
   "metadata": {},
   "outputs": [
    {
     "name": "stdout",
     "output_type": "stream",
     "text": [
      "Enter String you want to check: radar\n",
      "Given String is palindrome: True\n"
     ]
    }
   ],
   "source": [
    "def is_palindrome(input_string):\n",
    "    processed_string = input_string.lower().replace(\" \",\"\")\n",
    "    reversed_string = processed_string[::-1]\n",
    "    return print(\"Given String is palindrome:\", reversed_string==processed_string)\n",
    "\n",
    "input_string= input(\"Enter String you want to check: \")\n",
    "is_palindrome(input_string)"
   ]
  },
  {
   "cell_type": "markdown",
   "id": "c87e62e3",
   "metadata": {},
   "source": [
    "# Q3.\n",
    "### Write a program to find the largest element in a given list."
   ]
  },
  {
   "cell_type": "code",
   "execution_count": 18,
   "id": "84c8b89b",
   "metadata": {},
   "outputs": [
    {
     "name": "stdout",
     "output_type": "stream",
     "text": [
      "Enter the size of list: 5\n",
      "Enter the 1th element of list: 12\n",
      "Enter the 2th element of list: 34\n",
      "Enter the 3th element of list: 23\n",
      "Enter the 4th element of list: 12\n",
      "Enter the 5th element of list: 5\n",
      "Largest element in given list is 34\n"
     ]
    }
   ],
   "source": [
    " def find_largest_element(input_list):\n",
    "    if not input_list:\n",
    "        return None\n",
    "    largest_element = input_list[0]\n",
    "    for element in input_list:\n",
    "        if element > largest_element:\n",
    "            largest_element = element\n",
    "    return largest_element\n",
    "\n",
    "size = int(input(\"Enter the size of list: \"))\n",
    "my_list = []\n",
    "for i in range(size):\n",
    "    element = int(input(f\"Enter the {i+1}th element of list: \"))\n",
    "    my_list.append(element)\n",
    "    \n",
    "largest_element = find_largest_element(my_list)\n",
    "print(f\"Largest element in given list is {largest_element}\")\n",
    "    "
   ]
  },
  {
   "cell_type": "markdown",
   "id": "bf099604",
   "metadata": {},
   "source": [
    "# Q4.\n",
    "### Implement a function to count the occurrence of each element in a list."
   ]
  },
  {
   "cell_type": "code",
   "execution_count": 19,
   "id": "d80c5aaf",
   "metadata": {},
   "outputs": [
    {
     "name": "stdout",
     "output_type": "stream",
     "text": [
      "Enter the size of the list: 5\n",
      "Enter the 1th element of the list: 1\n",
      "Enter the 2th element of the list: 1\n",
      "Enter the 3th element of the list: 3\n",
      "Enter the 4th element of the list: 2\n",
      "Enter the 5th element of the list: 2\n",
      "Occurrence count: {'1': 2, '3': 1, '2': 2}\n"
     ]
    }
   ],
   "source": [
    "def count_occurrences(input_list):\n",
    "    occurrence_count = {}\n",
    "    for element in input_list:\n",
    "        if element in occurrence_count:\n",
    "            occurrence_count[element] += 1\n",
    "        else:\n",
    "            occurrence_count[element] = 1\n",
    "    return occurrence_count\n",
    "\n",
    "size = int(input(\"Enter the size of the list: \"))\n",
    "input_list = []\n",
    "for i in range(size):\n",
    "    element = input(f\"Enter the {i+1}th element of the list: \")\n",
    "    input_list.append(element)\n",
    "\n",
    "occurrence_count = count_occurrences(input_list)\n",
    "print(\"Occurrence count:\", occurrence_count)\n"
   ]
  },
  {
   "cell_type": "markdown",
   "id": "7eb6c37f",
   "metadata": {},
   "source": [
    "# Q5.\n",
    "### Write a Python program to find the second largest number in a list."
   ]
  },
  {
   "cell_type": "code",
   "execution_count": 20,
   "id": "f0688d98",
   "metadata": {},
   "outputs": [
    {
     "name": "stdout",
     "output_type": "stream",
     "text": [
      "Enter the size of the list: 5\n",
      "Enter the 1th element of the list: 12\n",
      "Enter the 2th element of the list: 13\n",
      "Enter the 3th element of the list: 5\n",
      "Enter the 4th element of the list: 34\n",
      "Enter the 5th element of the list: 28\n",
      "Second largest number: 28\n"
     ]
    }
   ],
   "source": [
    "def find_second_largest(input_list):\n",
    "    if len(input_list) < 2:\n",
    "        return None\n",
    "    largest = second_largest = float('-inf')\n",
    "    for num in input_list:\n",
    "        if num > largest:\n",
    "            second_largest = largest\n",
    "            largest = num\n",
    "        elif num > second_largest and num != largest:\n",
    "            second_largest = num\n",
    "    if second_largest == float('-inf'):\n",
    "        return None\n",
    "    return second_largest\n",
    "\n",
    "size = int(input(\"Enter the size of the list: \"))\n",
    "input_list = []\n",
    "for i in range(size):\n",
    "    element = int(input(f\"Enter the {i+1}th element of the list: \"))\n",
    "    input_list.append(element)\n",
    "\n",
    "second_largest = find_second_largest(input_list)\n",
    "print(\"Second largest number:\", second_largest)\n"
   ]
  },
  {
   "cell_type": "markdown",
   "id": "d5d006bd",
   "metadata": {},
   "source": [
    "# Q6.\n",
    "### Implement a function to remove duplicate elements from a list."
   ]
  },
  {
   "cell_type": "code",
   "execution_count": 21,
   "id": "986b27e5",
   "metadata": {},
   "outputs": [
    {
     "name": "stdout",
     "output_type": "stream",
     "text": [
      "Enter the size of the list: 5\n",
      "Enter the 1th element of the list: 1\n",
      "Enter the 2th element of the list: 1\n",
      "Enter the 3th element of the list: 2\n",
      "Enter the 4th element of the list: 3\n",
      "Enter the 5th element of the list: 4\n",
      "List with duplicate elements removed: ['1', '2', '3', '4']\n"
     ]
    }
   ],
   "source": [
    "def remove_duplicates(input_list):\n",
    "    seen = set()\n",
    "    result = []\n",
    "    for element in input_list:\n",
    "        if element not in seen:\n",
    "            seen.add(element)\n",
    "            result.append(element)\n",
    "    return result\n",
    "\n",
    "size = int(input(\"Enter the size of the list: \"))\n",
    "input_list = []\n",
    "for i in range(size):\n",
    "    element = input(f\"Enter the {i+1}th element of the list: \")\n",
    "    input_list.append(element)\n",
    "\n",
    "unique_list = remove_duplicates(input_list)\n",
    "print(\"List with duplicate elements removed:\", unique_list)\n"
   ]
  },
  {
   "cell_type": "markdown",
   "id": "294d08b2",
   "metadata": {},
   "source": [
    "# Q7.\n",
    "### Write a program to calculate the factorial of a given number."
   ]
  },
  {
   "cell_type": "code",
   "execution_count": 22,
   "id": "404cddc7",
   "metadata": {},
   "outputs": [
    {
     "name": "stdout",
     "output_type": "stream",
     "text": [
      "Enter a number: 5\n",
      "Factorial of 5 is 120\n"
     ]
    }
   ],
   "source": [
    "def factorial(n):\n",
    "    if n < 0:\n",
    "        return None\n",
    "    elif n == 0:\n",
    "        return 1\n",
    "    else:\n",
    "        result = 1\n",
    "        for i in range(1, n + 1):\n",
    "            result *= i\n",
    "        return result\n",
    "\n",
    "# Example usage\n",
    "num = int(input(\"Enter a number: \"))\n",
    "factorial_result = factorial(num)\n",
    "if factorial_result is None:\n",
    "    print(\"Factorial is undefined for negative numbers.\")\n",
    "else:\n",
    "    print(\"Factorial of\", num, \"is\", factorial_result)\n"
   ]
  },
  {
   "cell_type": "markdown",
   "id": "b2532825",
   "metadata": {},
   "source": [
    "# Q8.\n",
    "### Implement a function to check if a given number is prime."
   ]
  },
  {
   "cell_type": "code",
   "execution_count": 23,
   "id": "a7a06c59",
   "metadata": {},
   "outputs": [
    {
     "name": "stdout",
     "output_type": "stream",
     "text": [
      "Enter a number: 6\n",
      "6 is not a prime number.\n"
     ]
    }
   ],
   "source": [
    "def is_prime(number):\n",
    "    if number < 2:\n",
    "        return False\n",
    "    for i in range(2, int(number ** 0.5) + 1):\n",
    "        if number % i == 0:\n",
    "            return False\n",
    "    return True\n",
    "\n",
    "num = int(input(\"Enter a number: \"))\n",
    "\n",
    "if is_prime(num):\n",
    "    print(num, \"is a prime number.\")\n",
    "else:\n",
    "    print(num, \"is not a prime number.\")\n"
   ]
  },
  {
   "cell_type": "markdown",
   "id": "c0a7727a",
   "metadata": {},
   "source": [
    "# Q9.\n",
    "### Write a Python program to sort a list of integers in ascending order."
   ]
  },
  {
   "cell_type": "code",
   "execution_count": 24,
   "id": "2610845c",
   "metadata": {},
   "outputs": [
    {
     "name": "stdout",
     "output_type": "stream",
     "text": [
      "Enter the size of the list: 10\n",
      "Enter the 1th element of the list: 1 \n",
      "Enter the 2th element of the list: 4\n",
      "Enter the 3th element of the list: 3\n",
      "Enter the 4th element of the list: 6\n",
      "Enter the 5th element of the list: 43\n",
      "Enter the 6th element of the list: 23\n",
      "Enter the 7th element of the list: 56\n",
      "Enter the 8th element of the list: 12\n",
      "Enter the 9th element of the list: 8\n",
      "Enter the 10th element of the list: 5\n",
      "Sorted list in ascending order: [1, 3, 4, 5, 6, 8, 12, 23, 43, 56]\n"
     ]
    }
   ],
   "source": [
    "size = int(input(\"Enter the size of the list: \"))\n",
    "input_list = []\n",
    "for i in range(size):\n",
    "    element = int(input(f\"Enter the {i+1}th element of the list: \"))\n",
    "    input_list.append(element)\n",
    "\n",
    "\n",
    "sorted_list = sorted(input_list)\n",
    "\n",
    "print(\"Sorted list in ascending order:\", sorted_list)"
   ]
  },
  {
   "cell_type": "markdown",
   "id": "6034b6f1",
   "metadata": {},
   "source": [
    "# Q10.\n",
    "### Implement a function to find the sum of all numbers in a list."
   ]
  },
  {
   "cell_type": "code",
   "execution_count": 25,
   "id": "c1d2f4d8",
   "metadata": {},
   "outputs": [
    {
     "name": "stdout",
     "output_type": "stream",
     "text": [
      "Enter the size of the list: 5\n",
      "Enter the 1th number: 1\n",
      "Enter the 2th number: 4\n",
      "Enter the 3th number: 56\n",
      "Enter the 4th number: 23\n",
      "Enter the 5th number: 4\n",
      "Sum of numbers: 88\n"
     ]
    }
   ],
   "source": [
    "def sum_of_numbers(input_list):\n",
    "    total = 0\n",
    "    for number in input_list:\n",
    "        total += number\n",
    "    return total\n",
    "\n",
    "size = int(input(\"Enter the size of the list: \"))\n",
    "input_list = []\n",
    "for i in range(size):\n",
    "    number = int(input(f\"Enter the {i+1}th number: \"))\n",
    "    input_list.append(number)\n",
    "\n",
    "result = sum_of_numbers(input_list)\n",
    "print(\"Sum of numbers:\", result)\n"
   ]
  },
  {
   "cell_type": "markdown",
   "id": "6951373e",
   "metadata": {},
   "source": [
    "# Q11.\n",
    "### Write a program to find the common elements between two lists."
   ]
  },
  {
   "cell_type": "code",
   "execution_count": 26,
   "id": "2bfec463",
   "metadata": {},
   "outputs": [
    {
     "name": "stdout",
     "output_type": "stream",
     "text": [
      "Common elements: [3, 4, 5]\n"
     ]
    }
   ],
   "source": [
    "def find_common_elements(list1, list2):\n",
    "    common_elements = []\n",
    "    for element in list1:\n",
    "        if element in list2:\n",
    "            common_elements.append(element)\n",
    "    return common_elements\n",
    "\n",
    "list1 = [1, 2, 3, 4, 5]\n",
    "list2 = [3, 4, 5, 6, 7]\n",
    "common_elements = find_common_elements(list1, list2)\n",
    "print(\"Common elements:\", common_elements)\n"
   ]
  },
  {
   "cell_type": "markdown",
   "id": "462a0fd5",
   "metadata": {},
   "source": [
    "# Q12.\n",
    "### Implement a function to check if a given string is an anagram of another string."
   ]
  },
  {
   "cell_type": "code",
   "execution_count": 27,
   "id": "e6742d54",
   "metadata": {},
   "outputs": [
    {
     "name": "stdout",
     "output_type": "stream",
     "text": [
      "Enter the first string: Cat\n",
      "Enter the second string: Tac\n",
      "The strings are anagrams.\n"
     ]
    }
   ],
   "source": [
    "def is_anagram(string1, string2):\n",
    "    if len(string1) != len(string2):\n",
    "        return False\n",
    "    count = [0] * 26  \n",
    "    for char in string1:\n",
    "        if char.isalpha():\n",
    "            count[ord(char.lower()) - ord('a')] += 1\n",
    "    for char in string2:\n",
    "        if char.isalpha():\n",
    "            count[ord(char.lower()) - ord('a')] -= 1\n",
    "    return all(count[i] == 0 for i in range(26))\n",
    "\n",
    "str1 = input(\"Enter the first string: \")\n",
    "str2 = input(\"Enter the second string: \")\n",
    "\n",
    "if is_anagram(str1, str2):\n",
    "    print(\"The strings are anagrams.\")\n",
    "else:\n",
    "    print(\"The strings are not anagrams.\")\n"
   ]
  },
  {
   "cell_type": "markdown",
   "id": "ec39d85d",
   "metadata": {},
   "source": [
    "# Q13.\n",
    "### Write a Python program to generate all permutations of a given string."
   ]
  },
  {
   "cell_type": "code",
   "execution_count": 32,
   "id": "9a72896d",
   "metadata": {},
   "outputs": [
    {
     "name": "stdout",
     "output_type": "stream",
     "text": [
      "Enter a string: cat\n",
      "All permutations: 6\n",
      "cat\n",
      "cta\n",
      "act\n",
      "atc\n",
      "tca\n",
      "tac\n"
     ]
    }
   ],
   "source": [
    "def permutation_string(string):\n",
    "    if len(string) == 1:\n",
    "        return [string]\n",
    "    permutations = []\n",
    "    for i in range(len(string)):\n",
    "        char = string[i]\n",
    "        remaining_chars = string[:i] + string[i+1:]\n",
    "        for perm in permutation_string(remaining_chars):\n",
    "            permutations.append(char + perm)\n",
    "    return permutations\n",
    "\n",
    "input_string = input(\"Enter a string: \")\n",
    "permutations = permutation_string(input_string)\n",
    "print(\"All permutations:\", len(permutations))\n",
    "for perm in permutations:\n",
    "    print(perm)\n"
   ]
  },
  {
   "cell_type": "markdown",
   "id": "33223d83",
   "metadata": {},
   "source": [
    "# Q14.\n",
    "### Implement a function to calculate the Fibonacci sequence up to a given number of terms."
   ]
  },
  {
   "cell_type": "code",
   "execution_count": 33,
   "id": "5aea5268",
   "metadata": {},
   "outputs": [
    {
     "name": "stdout",
     "output_type": "stream",
     "text": [
      "Enter the number of terms: 10\n",
      "Fibonacci series:\n",
      "[0, 1, 1, 2, 3, 5, 8, 13, 21, 34]\n"
     ]
    }
   ],
   "source": [
    "def fibonacci(n):\n",
    "    if n <= 0:\n",
    "        return []\n",
    "    elif n == 1:\n",
    "        return [0]\n",
    "    elif n == 2:\n",
    "        return [0, 1]\n",
    "    else:\n",
    "        series = fibonacci(n - 1)\n",
    "        next_num = series[-1] + series[-2]\n",
    "        series.append(next_num)\n",
    "        return series\n",
    "\n",
    "\n",
    "num = int(input(\"Enter the number of terms: \"))\n",
    "fibonacci_series = fibonacci(num)\n",
    "print(\"Fibonacci series:\")\n",
    "print(fibonacci_series)\n"
   ]
  },
  {
   "cell_type": "markdown",
   "id": "a72085b0",
   "metadata": {},
   "source": [
    "# Q15.\n",
    "### Write a program to find the median of a list of numbers."
   ]
  },
  {
   "cell_type": "code",
   "execution_count": 34,
   "id": "c217497a",
   "metadata": {},
   "outputs": [
    {
     "name": "stdout",
     "output_type": "stream",
     "text": [
      "Enter the size of the list: 5\n",
      "Enter the 1th number: 3\n",
      "Enter the 2th number: 45\n",
      "Enter the 3th number: 23\n",
      "Enter the 4th number: 12\n",
      "Enter the 5th number: 4\n",
      "Median: 12.0\n"
     ]
    }
   ],
   "source": [
    "def find_median(numbers):\n",
    "    sorted_numbers = sorted(numbers)\n",
    "    n = len(sorted_numbers)\n",
    "    if n % 2 == 0:\n",
    "        mid1 = n // 2\n",
    "        mid2 = mid1 - 1\n",
    "        median = (sorted_numbers[mid1] + sorted_numbers[mid2]) / 2\n",
    "    else:\n",
    "        mid = n // 2\n",
    "        median = sorted_numbers[mid]\n",
    "    return median\n",
    "\n",
    "size = int(input(\"Enter the size of the list: \"))\n",
    "number_list = []\n",
    "for i in range(size):\n",
    "    number = float(input(f\"Enter the {i+1}th number: \"))\n",
    "    number_list.append(number)\n",
    "\n",
    "median_value = find_median(number_list)\n",
    "print(\"Median:\", median_value)\n"
   ]
  },
  {
   "cell_type": "markdown",
   "id": "558a2302",
   "metadata": {},
   "source": [
    "# Q16.\n",
    "### Implement a function to check if a given list is sorted in non-decreasing order."
   ]
  },
  {
   "cell_type": "code",
   "execution_count": 37,
   "id": "7bc10b2b",
   "metadata": {},
   "outputs": [
    {
     "name": "stdout",
     "output_type": "stream",
     "text": [
      "Enter the size of the list: 5\n",
      "Enter the 1th number: 1\n",
      "Enter the 2th number: 2\n",
      "Enter the 3th number: 3\n",
      "Enter the 4th number: 4\n",
      "Enter the 5th number: 5\n",
      "The list is sorted in non-decreasing order.\n"
     ]
    }
   ],
   "source": [
    "def is_sorted(numbers):\n",
    "    n = len(numbers)\n",
    "    if n <= 1:\n",
    "        return True\n",
    "    for i in range(1, n):\n",
    "        if numbers[i] < numbers[i-1]:\n",
    "            return False\n",
    "    return True\n",
    "\n",
    "size = int(input(\"Enter the size of the list: \"))\n",
    "number_list = []\n",
    "for i in range(size):\n",
    "    number = int(input(f\"Enter the {i+1}th number: \"))\n",
    "    number_list.append(number)\n",
    "\n",
    "if is_sorted(number_list):\n",
    "    print(\"The list is sorted in non-decreasing order.\")\n",
    "else:\n",
    "    print(\"The list is not sorted in non-decreasing order.\")\n"
   ]
  },
  {
   "cell_type": "markdown",
   "id": "321156e4",
   "metadata": {},
   "source": [
    "# Q17.\n",
    "### Write a Python program to find the intersection of two lists."
   ]
  },
  {
   "cell_type": "code",
   "execution_count": 38,
   "id": "1a948456",
   "metadata": {},
   "outputs": [
    {
     "name": "stdout",
     "output_type": "stream",
     "text": [
      "Intersection of the two lists: [4, 5]\n"
     ]
    }
   ],
   "source": [
    "def find_intersection(list1, list2):\n",
    "\n",
    "    set1 = set(list1)\n",
    "    set2 = set(list2)\n",
    "    \n",
    "    intersection = set1.intersection(set2)\n",
    "    \n",
    "    intersection_list = list(intersection)\n",
    "    \n",
    "    return intersection_list\n",
    "\n",
    "list1 = [1, 2, 3, 4, 5]\n",
    "list2 = [4, 5, 6, 7, 8]\n",
    "\n",
    "intersection = find_intersection(list1, list2)\n",
    "\n",
    "print(\"Intersection of the two lists:\", intersection)\n"
   ]
  },
  {
   "cell_type": "markdown",
   "id": "890a3fb5",
   "metadata": {},
   "source": [
    "# Q18.\n",
    "### Implement a function to find the maximum subarray sum in a given list."
   ]
  },
  {
   "cell_type": "code",
   "execution_count": 40,
   "id": "6901ca4c",
   "metadata": {},
   "outputs": [
    {
     "name": "stdout",
     "output_type": "stream",
     "text": [
      "Enter the size of the list: 5\n",
      "Enter element 1: 1 \n",
      "Enter element 2: 2\n",
      "Enter element 3: 3\n",
      "Enter element 4: 4\n",
      "Enter element 5: 5\n",
      "Maximum subarray sum: 15\n"
     ]
    }
   ],
   "source": [
    "def find_max_subarray_sum(nums):\n",
    "    if not nums:\n",
    "        return 0\n",
    "\n",
    "    current_sum = max_sum = nums[0]\n",
    "\n",
    "    for i in range(1, len(nums)):\n",
    "        current_sum = max(nums[i], current_sum + nums[i])\n",
    "        max_sum = max(max_sum, current_sum)\n",
    "\n",
    "    return max_sum\n",
    "\n",
    "size = int(input(\"Enter the size of the list: \"))\n",
    "nums = []\n",
    "for i in range(size):\n",
    "    num = int(input(f\"Enter element {i+1}: \"))\n",
    "    nums.append(num)\n",
    "\n",
    "max_sum = find_max_subarray_sum(nums)\n",
    "print(\"Maximum subarray sum:\", max_sum)\n"
   ]
  },
  {
   "cell_type": "markdown",
   "id": "84aacdf1",
   "metadata": {},
   "source": [
    "# Q19.\n",
    "### Write a program to remove all vowels from a given string."
   ]
  },
  {
   "cell_type": "code",
   "execution_count": 41,
   "id": "3dd601fe",
   "metadata": {},
   "outputs": [
    {
     "name": "stdout",
     "output_type": "stream",
     "text": [
      "Enter a string: Hello\n",
      "String without vowels: Hll\n"
     ]
    }
   ],
   "source": [
    "def remove_vowels(string):\n",
    "    vowels = ['a', 'e', 'i', 'o', 'u', 'A', 'E', 'I', 'O', 'U']\n",
    "    result = \"\"\n",
    "    for char in string:\n",
    "        if char not in vowels:\n",
    "            result += char\n",
    "    return result\n",
    "\n",
    "input_string = input(\"Enter a string: \")\n",
    "string_without_vowels = remove_vowels(input_string)\n",
    "print(\"String without vowels:\", string_without_vowels)\n"
   ]
  },
  {
   "cell_type": "markdown",
   "id": "1a5532e1",
   "metadata": {},
   "source": [
    "# Q20.\n",
    "### Implement a function to reverse the order of words in a given sentence."
   ]
  },
  {
   "cell_type": "code",
   "execution_count": 43,
   "id": "fdbed2c3",
   "metadata": {},
   "outputs": [
    {
     "name": "stdout",
     "output_type": "stream",
     "text": [
      "Enter a sentence: Hello How are you?\n",
      "Reversed sentence: you? are How Hello\n"
     ]
    }
   ],
   "source": [
    "def reverse_sentence(sentence):\n",
    "    words = sentence.split()\n",
    "    reversed_words = words[::-1]\n",
    "    reversed_sentence = ' '.join(reversed_words)\n",
    "    return reversed_sentence\n",
    "\n",
    "input_sentence = input(\"Enter a sentence: \")\n",
    "reversed_sentence = reverse_sentence(input_sentence)\n",
    "print(\"Reversed sentence:\", reversed_sentence)\n"
   ]
  },
  {
   "cell_type": "markdown",
   "id": "9b5477d8",
   "metadata": {},
   "source": [
    "# Q21.\n",
    "### Write a Python program to check if two strings are anagrams of each other."
   ]
  },
  {
   "cell_type": "code",
   "execution_count": 45,
   "id": "0bcc03bf",
   "metadata": {},
   "outputs": [
    {
     "name": "stdout",
     "output_type": "stream",
     "text": [
      "Enter the first string: hello\n",
      "Enter the second string: lloeh\n",
      "The two strings are anagrams.\n"
     ]
    }
   ],
   "source": [
    "def check_anagrams(str1, str2):\n",
    "\n",
    "    str1 = str1.lower().replace(\" \", \"\")\n",
    "    str2 = str2.lower().replace(\" \", \"\")\n",
    "    \n",
    "    sorted_str1 = sorted(str1)\n",
    "    sorted_str2 = sorted(str2)    \n",
    "\n",
    "    if sorted_str1 == sorted_str2:\n",
    "        return True\n",
    "    else:\n",
    "        return False\n",
    "\n",
    "input_str1 = input(\"Enter the first string: \")\n",
    "input_str2 = input(\"Enter the second string: \")\n",
    "\n",
    "if check_anagrams(input_str1, input_str2):\n",
    "    print(\"The two strings are anagrams.\")\n",
    "else:\n",
    "    print(\"The two strings are not anagrams.\")\n"
   ]
  },
  {
   "cell_type": "markdown",
   "id": "535af45a",
   "metadata": {},
   "source": [
    "# Q22.\n",
    "### Implement a function to find the first non-repeating character in a string."
   ]
  },
  {
   "cell_type": "code",
   "execution_count": 47,
   "id": "58671d93",
   "metadata": {},
   "outputs": [
    {
     "name": "stdout",
     "output_type": "stream",
     "text": [
      "Enter a string: hhello\n",
      "First non-repeating character: e\n"
     ]
    }
   ],
   "source": [
    "def find_first_non_repeating_char(string):\n",
    "    char_count = {}\n",
    "    \n",
    "    for char in string:\n",
    "        if char in char_count:\n",
    "            char_count[char] += 1\n",
    "        else:\n",
    "            char_count[char] = 1\n",
    "    \n",
    "    for char in string:\n",
    "        if char_count[char] == 1:\n",
    "            return char\n",
    "    \n",
    "    return None\n",
    "\n",
    "input_string = input(\"Enter a string: \")\n",
    "first_non_repeating_char = find_first_non_repeating_char(input_string)\n",
    "\n",
    "if first_non_repeating_char:\n",
    "    print(\"First non-repeating character:\", first_non_repeating_char)\n",
    "else:\n",
    "    print(\"No non-repeating character found.\")\n"
   ]
  },
  {
   "cell_type": "markdown",
   "id": "b999cf18",
   "metadata": {},
   "source": [
    "# Q23.\n",
    "### Write a program to find the prime factors of a given number."
   ]
  },
  {
   "cell_type": "code",
   "execution_count": 48,
   "id": "0d63659f",
   "metadata": {},
   "outputs": [
    {
     "name": "stdout",
     "output_type": "stream",
     "text": [
      "Enter a number: 12\n",
      "Prime factors: [2, 2, 3]\n"
     ]
    }
   ],
   "source": [
    "def find_prime_factors(number):\n",
    "    prime_factors = []\n",
    "    divisor = 2\n",
    "    \n",
    "    while divisor <= number:\n",
    "        if number % divisor == 0:\n",
    "            prime_factors.append(divisor)\n",
    "            number //= divisor\n",
    "        else:\n",
    "            divisor += 1\n",
    "    \n",
    "    return prime_factors\n",
    "\n",
    "input_number = int(input(\"Enter a number: \"))\n",
    "prime_factors = find_prime_factors(input_number)\n",
    "print(\"Prime factors:\", prime_factors)\n"
   ]
  },
  {
   "cell_type": "markdown",
   "id": "89838ae4",
   "metadata": {},
   "source": [
    "# Q24.\n",
    "### Implement a function to check if a given number is a power of two."
   ]
  },
  {
   "cell_type": "code",
   "execution_count": 49,
   "id": "30e7c5e0",
   "metadata": {},
   "outputs": [
    {
     "name": "stdout",
     "output_type": "stream",
     "text": [
      "Enter a number: 8\n",
      "The number is a power of two.\n"
     ]
    }
   ],
   "source": [
    "def is_power_of_two(number):\n",
    "    if number <= 0:\n",
    "        return False\n",
    "\n",
    "    while number > 1:\n",
    "        if number % 2 != 0:\n",
    "            return False\n",
    "        number = number // 2\n",
    "\n",
    "    return True\n",
    "\n",
    "input_number = int(input(\"Enter a number: \"))\n",
    "if is_power_of_two(input_number):\n",
    "    print(\"The number is a power of two.\")\n",
    "else:\n",
    "    print(\"The number is not a power of two.\")\n"
   ]
  },
  {
   "cell_type": "markdown",
   "id": "6245d529",
   "metadata": {},
   "source": [
    "# Q25.\n",
    "### Write a Python program to merge two sorted lists into a single sorted list."
   ]
  },
  {
   "cell_type": "code",
   "execution_count": 52,
   "id": "bb4190d8",
   "metadata": {},
   "outputs": [
    {
     "name": "stdout",
     "output_type": "stream",
     "text": [
      "Enter the elements of the first sorted list (space-separated): 1 2 3 4 5\n",
      "Enter the elements of the second sorted list (space-separated): 6 7 8 9 \n",
      "Merged list: [1, 2, 3, 4, 5, 6, 7, 8, 9]\n"
     ]
    }
   ],
   "source": [
    "def merge_sorted_lists(list1, list2):\n",
    "    merged_list = []\n",
    "    i = j = 0\n",
    "\n",
    "    while i < len(list1) and j < len(list2):\n",
    "        if list1[i] <= list2[j]:\n",
    "            merged_list.append(list1[i])\n",
    "            i += 1\n",
    "        else:\n",
    "            merged_list.append(list2[j])\n",
    "            j += 1\n",
    "\n",
    "    while i < len(list1):\n",
    "        merged_list.append(list1[i])\n",
    "        i += 1\n",
    "\n",
    "    while j < len(list2):\n",
    "        merged_list.append(list2[j])\n",
    "        j += 1\n",
    "\n",
    "    return merged_list\n",
    "\n",
    "# Example usage\n",
    "list1 = input(\"Enter the elements of the first sorted list (space-separated): \").split()\n",
    "list2 = input(\"Enter the elements of the second sorted list (space-separated): \").split()\n",
    "\n",
    "list1 = [int(num) for num in list1]\n",
    "list2 = [int(num) for num in list2]\n",
    "\n",
    "merged_list = merge_sorted_lists(list1, list2)\n",
    "print(\"Merged list:\", merged_list)\n"
   ]
  },
  {
   "cell_type": "markdown",
   "id": "94c37c9b",
   "metadata": {},
   "source": [
    "# Q26.\n",
    "### Implement a function to find the mode of a list of numbers."
   ]
  },
  {
   "cell_type": "code",
   "execution_count": 53,
   "id": "8c280b1f",
   "metadata": {},
   "outputs": [
    {
     "name": "stdout",
     "output_type": "stream",
     "text": [
      "Enter the numbers (space-separated): 1 2 2 3 4 5 5 6 5 7 8 5\n",
      "Mode(s): [5]\n"
     ]
    }
   ],
   "source": [
    "from collections import Counter\n",
    "\n",
    "def find_mode(numbers):\n",
    "\n",
    "    count = Counter(numbers)\n",
    "    \n",
    "    max_count = max(count.values())\n",
    "    mode = [num for num, freq in count.items() if freq == max_count]\n",
    "    \n",
    "    return mode\n",
    "\n",
    "input_numbers = input(\"Enter the numbers (space-separated): \").split()\n",
    "numbers = [int(num) for num in input_numbers]\n",
    "\n",
    "modes = find_mode(numbers)\n",
    "print(\"Mode(s):\", modes)\n"
   ]
  },
  {
   "cell_type": "markdown",
   "id": "ded4c648",
   "metadata": {},
   "source": [
    "# Q27.\n",
    "### Write a program to find the greatest common divisor (GCD) of two numbers."
   ]
  },
  {
   "cell_type": "code",
   "execution_count": 54,
   "id": "3088aefd",
   "metadata": {},
   "outputs": [
    {
     "name": "stdout",
     "output_type": "stream",
     "text": [
      "Enter the first number: 12\n",
      "Enter the second number: 3\n",
      "GCD: 3\n"
     ]
    }
   ],
   "source": [
    "def find_gcd(a, b):\n",
    "    while b != 0:\n",
    "        a, b = b, a % b\n",
    "    return a\n",
    "\n",
    "num1 = int(input(\"Enter the first number: \"))\n",
    "num2 = int(input(\"Enter the second number: \"))\n",
    "\n",
    "gcd = find_gcd(num1, num2)\n",
    "print(\"GCD:\", gcd)\n"
   ]
  },
  {
   "cell_type": "markdown",
   "id": "cfc8f43c",
   "metadata": {},
   "source": [
    "# Q28.\n",
    "### Implement a function to calculate the square root of a given number."
   ]
  },
  {
   "cell_type": "code",
   "execution_count": 58,
   "id": "f79ddcab",
   "metadata": {},
   "outputs": [
    {
     "name": "stdout",
     "output_type": "stream",
     "text": [
      "3.1622776601683795\n"
     ]
    }
   ],
   "source": [
    "def countSquares(x):\n",
    "    sqrt = x**0.5\n",
    "    result = float(sqrt)\n",
    "    return result\n",
    "\n",
    "\n",
    "x = 10\n",
    "print(countSquares(x))\n"
   ]
  },
  {
   "cell_type": "markdown",
   "id": "e1080157",
   "metadata": {},
   "source": [
    "# Q29.\n",
    "### Write a Python program to check if a given string is a valid palindrome ignoring non-alphanumeric characters."
   ]
  },
  {
   "cell_type": "code",
   "execution_count": 59,
   "id": "e70e0c1c",
   "metadata": {},
   "outputs": [
    {
     "name": "stdout",
     "output_type": "stream",
     "text": [
      "Enter a string: A man, a plan, a canal: Panama\n",
      "The string is a valid palindrome.\n"
     ]
    }
   ],
   "source": [
    "def is_valid_palindrome(string):\n",
    "    alphanumeric_string = \"\"\n",
    "\n",
    "    for char in string:\n",
    "        if char.isalnum():\n",
    "            alphanumeric_string += char.lower()\n",
    "\n",
    "    return alphanumeric_string == alphanumeric_string[::-1]\n",
    "\n",
    "input_string = input(\"Enter a string: \")\n",
    "if is_valid_palindrome(input_string):\n",
    "    print(\"The string is a valid palindrome.\")\n",
    "else:\n",
    "    print(\"The string is not a valid palindrome.\")\n"
   ]
  },
  {
   "cell_type": "markdown",
   "id": "24efeb4d",
   "metadata": {},
   "source": [
    "# Q30.\n",
    "### Implement a function to find the minimum element in a rotated sorted list."
   ]
  },
  {
   "cell_type": "code",
   "execution_count": 60,
   "id": "2578af09",
   "metadata": {},
   "outputs": [
    {
     "name": "stdout",
     "output_type": "stream",
     "text": [
      "Enter the elements of the list (space-separated): 4 5 3 4 2 6\n",
      "Minimum element: 2\n"
     ]
    }
   ],
   "source": [
    "def find_minimum(nums):\n",
    "    sorted_nums = sorted(nums)\n",
    "    return sorted_nums[0]\n",
    "\n",
    "input_nums = input(\"Enter the elements of the list (space-separated): \").split()\n",
    "nums = [int(num) for num in input_nums]\n",
    "\n",
    "minimum = find_minimum(nums)\n",
    "print(\"Minimum element:\", minimum)\n"
   ]
  },
  {
   "cell_type": "markdown",
   "id": "e3a47a86",
   "metadata": {},
   "source": [
    "# Q31.\n",
    "### Write a program to find the sum of all even numbers in a list."
   ]
  },
  {
   "cell_type": "code",
   "execution_count": 61,
   "id": "ffe7339e",
   "metadata": {},
   "outputs": [
    {
     "name": "stdout",
     "output_type": "stream",
     "text": [
      "Enter the elements of the list (space-separated): 2 3 4 6 5 8 12 4 5 \n",
      "Sum of even numbers: 36\n"
     ]
    }
   ],
   "source": [
    "def sum_of_even_numbers(numbers):\n",
    "    sum_even = 0\n",
    "    for number in numbers:\n",
    "        if number % 2 == 0:\n",
    "            sum_even += number\n",
    "    return sum_even\n",
    "\n",
    "input_numbers = input(\"Enter the elements of the list (space-separated): \").split()\n",
    "numbers = [int(num) for num in input_numbers]\n",
    "\n",
    "sum_even = sum_of_even_numbers(numbers)\n",
    "print(\"Sum of even numbers:\", sum_even)\n"
   ]
  },
  {
   "cell_type": "markdown",
   "id": "3c5f4f05",
   "metadata": {},
   "source": [
    "# Q32.\n",
    "### Implement a function to calculate the power of a number using recursion."
   ]
  },
  {
   "cell_type": "code",
   "execution_count": 62,
   "id": "18e26344",
   "metadata": {},
   "outputs": [
    {
     "name": "stdout",
     "output_type": "stream",
     "text": [
      "Enter the base: 2\n",
      "Enter the exponent: 3\n",
      "Result: 8.0\n"
     ]
    }
   ],
   "source": [
    "def power(base, exponent):\n",
    "    if exponent == 0:\n",
    "        return 1\n",
    "    elif exponent < 0:\n",
    "        return 1 / power(base, -exponent)\n",
    "    else:\n",
    "        return base * power(base, exponent - 1)\n",
    "\n",
    "base = float(input(\"Enter the base: \"))\n",
    "exponent = int(input(\"Enter the exponent: \"))\n",
    "\n",
    "result = power(base, exponent)\n",
    "print(\"Result:\", result)\n"
   ]
  },
  {
   "cell_type": "markdown",
   "id": "ab89116d",
   "metadata": {},
   "source": [
    "# Q33.\n",
    "### Write a Python program to remove duplicates from a list while preserving the order."
   ]
  },
  {
   "cell_type": "code",
   "execution_count": 63,
   "id": "b9636b16",
   "metadata": {},
   "outputs": [
    {
     "name": "stdout",
     "output_type": "stream",
     "text": [
      "Enter the elements of the list (space-separated): 1 2 2 3 5 4 4 4 5 6 \n",
      "List with duplicates removed: [1, 2, 3, 5, 4, 6]\n"
     ]
    }
   ],
   "source": [
    "def remove_duplicates(lst):\n",
    "    seen = set()\n",
    "    result = []\n",
    "    for item in lst:\n",
    "        if item not in seen:\n",
    "            seen.add(item)\n",
    "            result.append(item)\n",
    "    return result\n",
    "\n",
    "input_list = input(\"Enter the elements of the list (space-separated): \").split()\n",
    "lst = [int(item) for item in input_list]\n",
    "\n",
    "unique_list = remove_duplicates(lst)\n",
    "print(\"List with duplicates removed:\", unique_list)\n"
   ]
  },
  {
   "cell_type": "markdown",
   "id": "19ab217a",
   "metadata": {},
   "source": [
    "# Q34.\n",
    "### Implement a function to find the longest common prefix among a list of strings."
   ]
  },
  {
   "cell_type": "code",
   "execution_count": 67,
   "id": "49dd2625",
   "metadata": {},
   "outputs": [
    {
     "name": "stdout",
     "output_type": "stream",
     "text": [
      "Enter the strings (space-separated): flower flow flight\n",
      "Longest common prefix: fl\n"
     ]
    }
   ],
   "source": [
    "def longest_common_prefix(strs):\n",
    "    if not strs:\n",
    "        return \"\"\n",
    "\n",
    "    min_length = min(len(s) for s in strs)\n",
    "\n",
    "    prefix = \"\"\n",
    "    for i in range(min_length):\n",
    "\n",
    "        char = strs[0][i]\n",
    "\n",
    "        if all(s[i] == char for s in strs):\n",
    "            prefix += char\n",
    "        else:\n",
    "\n",
    "            break\n",
    "\n",
    "    return prefix\n",
    "\n",
    "input_strs = input(\"Enter the strings (space-separated): \").split()\n",
    "\n",
    "common_prefix = longest_common_prefix(input_strs)\n",
    "print(\"Longest common prefix:\", common_prefix)\n"
   ]
  },
  {
   "cell_type": "markdown",
   "id": "5c77aa24",
   "metadata": {},
   "source": [
    "# Q35.\n",
    "### Write a program to check if a given number is a perfect square."
   ]
  },
  {
   "cell_type": "code",
   "execution_count": 68,
   "id": "b1efe55f",
   "metadata": {},
   "outputs": [
    {
     "name": "stdout",
     "output_type": "stream",
     "text": [
      "Enter a number: 25\n",
      "The number is a perfect square.\n"
     ]
    }
   ],
   "source": [
    "def is_perfect_square(num):\n",
    "    if num < 0:\n",
    "        return False\n",
    "\n",
    "    i = 0\n",
    "    while i * i <= num:\n",
    "        if i * i == num:\n",
    "            return True\n",
    "        i += 1\n",
    "\n",
    "    return False\n",
    "\n",
    "number = int(input(\"Enter a number: \"))\n",
    "\n",
    "if is_perfect_square(number):\n",
    "    print(\"The number is a perfect square.\")\n",
    "else:\n",
    "    print(\"The number is not a perfect square.\")\n"
   ]
  },
  {
   "cell_type": "markdown",
   "id": "acc2e338",
   "metadata": {},
   "source": [
    "# Q36.\n",
    "### Implement a function to calculate the product of all elements in a list."
   ]
  },
  {
   "cell_type": "code",
   "execution_count": 69,
   "id": "8d634314",
   "metadata": {},
   "outputs": [
    {
     "name": "stdout",
     "output_type": "stream",
     "text": [
      "Enter the elements of the list (space-separated): 2 3 4 6 5 7\n",
      "Product of all elements: 5040\n"
     ]
    }
   ],
   "source": [
    "def calculate_product(numbers):\n",
    "    product = 1\n",
    "    for number in numbers:\n",
    "        product *= number\n",
    "    return product\n",
    "\n",
    "input_numbers = input(\"Enter the elements of the list (space-separated): \").split()\n",
    "numbers = [int(num) for num in input_numbers]\n",
    "\n",
    "result = calculate_product(numbers)\n",
    "print(\"Product of all elements:\", result)\n"
   ]
  },
  {
   "cell_type": "markdown",
   "id": "75bd4be4",
   "metadata": {},
   "source": [
    "# Q37.\n",
    "### Write a Python program to reverse the order of words in a sentence while preserving the word order."
   ]
  },
  {
   "cell_type": "code",
   "execution_count": 70,
   "id": "79214e0b",
   "metadata": {},
   "outputs": [
    {
     "name": "stdout",
     "output_type": "stream",
     "text": [
      "Enter a sentence: hello world\n",
      "Reversed sentence: world hello\n"
     ]
    }
   ],
   "source": [
    "def reverse_words(sentence):\n",
    "    words = sentence.split()\n",
    "    reversed_words = words[::-1]\n",
    "    reversed_sentence = ' '.join(reversed_words)\n",
    "    return reversed_sentence\n",
    "\n",
    "input_sentence = input(\"Enter a sentence: \")\n",
    "\n",
    "reversed_sentence = reverse_words(input_sentence)\n",
    "print(\"Reversed sentence:\", reversed_sentence)\n"
   ]
  },
  {
   "cell_type": "markdown",
   "id": "d307a1e7",
   "metadata": {},
   "source": [
    "# Q38.\n",
    "### Implement a function to find the missing number in a given list of consecutive numbers."
   ]
  },
  {
   "cell_type": "code",
   "execution_count": 71,
   "id": "98b02012",
   "metadata": {},
   "outputs": [
    {
     "name": "stdout",
     "output_type": "stream",
     "text": [
      "Enter the consecutive numbers (space-separated): 1 2 3 4 6 7 8 \n",
      "Missing number: 5\n"
     ]
    }
   ],
   "source": [
    "def find_missing_number(numbers):\n",
    "    n = len(numbers) + 1\n",
    "    expected_sum = n * (n + 1) // 2\n",
    "    actual_sum = sum(numbers)\n",
    "    missing_number = expected_sum - actual_sum\n",
    "    return missing_number\n",
    "\n",
    "input_numbers = input(\"Enter the consecutive numbers (space-separated): \").split()\n",
    "numbers = [int(num) for num in input_numbers]\n",
    "\n",
    "missing_number = find_missing_number(numbers)\n",
    "print(\"Missing number:\", missing_number)\n"
   ]
  },
  {
   "cell_type": "markdown",
   "id": "32180e03",
   "metadata": {},
   "source": [
    "# Q39.\n",
    "### Write a program to find the sum of digits of a given number."
   ]
  },
  {
   "cell_type": "code",
   "execution_count": 72,
   "id": "f177ff51",
   "metadata": {},
   "outputs": [
    {
     "name": "stdout",
     "output_type": "stream",
     "text": [
      "Enter a number: 123\n",
      "Sum of digits: 6\n"
     ]
    }
   ],
   "source": [
    "def sum_of_digits(number):\n",
    "    sum = 0\n",
    "    while number > 0:\n",
    "        digit = number % 10\n",
    "        sum += digit\n",
    "        number //= 10\n",
    "    return sum\n",
    "\n",
    "number = int(input(\"Enter a number: \"))\n",
    "\n",
    "digit_sum = sum_of_digits(number)\n",
    "print(\"Sum of digits:\", digit_sum)\n"
   ]
  },
  {
   "cell_type": "markdown",
   "id": "0f3aba53",
   "metadata": {},
   "source": [
    "# Q40.\n",
    "###  Implement a function to check if a given string is a valid palindrome considering case sensitivity."
   ]
  },
  {
   "cell_type": "code",
   "execution_count": 74,
   "id": "eb77cf0f",
   "metadata": {},
   "outputs": [
    {
     "name": "stdout",
     "output_type": "stream",
     "text": [
      "Enter a string: Nitin\n",
      "The string is not a valid palindrome.\n"
     ]
    }
   ],
   "source": [
    "def is_valid_palindrome(string):\n",
    "    cleaned_string = ''.join(char for char in string if char.isalnum())\n",
    "    return cleaned_string == cleaned_string[::-1]\n",
    "\n",
    "# Example usage\n",
    "input_string = input(\"Enter a string: \")\n",
    "\n",
    "if is_valid_palindrome(input_string):\n",
    "    print(\"The string is a valid palindrome.\")\n",
    "else:\n",
    "    print(\"The string is not a valid palindrome.\")\n"
   ]
  },
  {
   "cell_type": "markdown",
   "id": "beeb7249",
   "metadata": {},
   "source": [
    "# Q41.\n",
    "### Write a Python program to find the smallest missing positive integer in a list."
   ]
  },
  {
   "cell_type": "code",
   "execution_count": 76,
   "id": "7c7ec8a5",
   "metadata": {},
   "outputs": [
    {
     "name": "stdout",
     "output_type": "stream",
     "text": [
      "Enter the numbers (space-separated): 1 2 4 -1 5\n",
      "Smallest missing positive integer: 3\n"
     ]
    }
   ],
   "source": [
    "def smallest_missing_positive(numbers):\n",
    "\n",
    "    positive_numbers = [num for num in numbers if num > 0]\n",
    "\n",
    "    if 1 not in positive_numbers:\n",
    "        return 1\n",
    "\n",
    "    unique_numbers = set(positive_numbers)\n",
    "\n",
    "    current_number = 2\n",
    "    while current_number in unique_numbers:\n",
    "        current_number += 1\n",
    "\n",
    "    return current_number\n",
    "\n",
    "\n",
    "input_numbers = input(\"Enter the numbers (space-separated): \").split()\n",
    "numbers = [int(num) for num in input_numbers]\n",
    "\n",
    "smallest_missing = smallest_missing_positive(numbers)\n",
    "print(\"Smallest missing positive integer:\", smallest_missing)\n"
   ]
  },
  {
   "cell_type": "markdown",
   "id": "942a9c33",
   "metadata": {},
   "source": [
    "# Q42.\n",
    "### Implement a function to find the longest palindrome substring in a given string."
   ]
  },
  {
   "cell_type": "code",
   "execution_count": 78,
   "id": "17dbc9d1",
   "metadata": {},
   "outputs": [
    {
     "name": "stdout",
     "output_type": "stream",
     "text": [
      "Enter a string: hello nitin\n",
      "Longest palindrome substring: nitin\n"
     ]
    }
   ],
   "source": [
    "def longest_palindrome(s):\n",
    "    longest = ''\n",
    "    for i in range(len(s)):\n",
    "\n",
    "        left = right = i\n",
    "        while left >= 0 and right < len(s) and s[left] == s[right]:\n",
    "            left -= 1\n",
    "            right += 1\n",
    "        palindrome_odd = s[left + 1 : right]\n",
    "\n",
    "        left = i\n",
    "        right = i + 1\n",
    "        while left >= 0 and right < len(s) and s[left] == s[right]:\n",
    "            left -= 1\n",
    "            right += 1\n",
    "        palindrome_even = s[left + 1 : right]\n",
    "\n",
    "        if len(palindrome_odd) > len(longest):\n",
    "            longest = palindrome_odd\n",
    "        if len(palindrome_even) > len(longest):\n",
    "            longest = palindrome_even\n",
    "\n",
    "    return longest\n",
    "\n",
    "input_string = input(\"Enter a string: \")\n",
    "\n",
    "result = longest_palindrome(input_string)\n",
    "print(\"Longest palindrome substring:\", result)\n"
   ]
  },
  {
   "cell_type": "markdown",
   "id": "a9f5d0b0",
   "metadata": {},
   "source": [
    "# Q43.\n",
    "### Write a program to find the number of occurrences of a given element in a list."
   ]
  },
  {
   "cell_type": "code",
   "execution_count": 79,
   "id": "0740dae8",
   "metadata": {},
   "outputs": [
    {
     "name": "stdout",
     "output_type": "stream",
     "text": [
      "Enter the numbers (space-separated): 1 2 2 3 4 4 4 5 6\n",
      "Enter the element to count: 4\n",
      "Number of occurrences of 4: 3\n"
     ]
    }
   ],
   "source": [
    "def count_occurrences(numbers, element):\n",
    "    count = 0\n",
    "    for num in numbers:\n",
    "        if num == element:\n",
    "            count += 1\n",
    "    return count\n",
    "\n",
    "input_numbers = input(\"Enter the numbers (space-separated): \").split()\n",
    "numbers = [int(num) for num in input_numbers]\n",
    "\n",
    "element = int(input(\"Enter the element to count: \"))\n",
    "\n",
    "occurrences = count_occurrences(numbers, element)\n",
    "print(f\"Number of occurrences of {element}: {occurrences}\")\n"
   ]
  },
  {
   "cell_type": "markdown",
   "id": "6ae9f04b",
   "metadata": {},
   "source": [
    "# Q44.\n",
    "### Implement a function to check if a given number is a perfect number."
   ]
  },
  {
   "cell_type": "code",
   "execution_count": 82,
   "id": "b07f477c",
   "metadata": {},
   "outputs": [
    {
     "name": "stdout",
     "output_type": "stream",
     "text": [
      "Enter a number: 6\n",
      "The number is a perfect number.\n"
     ]
    }
   ],
   "source": [
    "def is_perfect_number(number):\n",
    "    if number <= 0:\n",
    "        return False\n",
    "\n",
    "    divisor_sum = sum(i for i in range(1, number) if number % i == 0)\n",
    "\n",
    "    return divisor_sum == number\n",
    "\n",
    "input_number = int(input(\"Enter a number: \"))\n",
    "\n",
    "if is_perfect_number(input_number):\n",
    "    print(\"The number is a perfect number.\")\n",
    "else:\n",
    "    print(\"The number is not a perfect number.\")\n"
   ]
  },
  {
   "cell_type": "markdown",
   "id": "86db0671",
   "metadata": {},
   "source": [
    "# Q45.\n",
    "### Write a Python program to remove all duplicates from a string."
   ]
  },
  {
   "cell_type": "code",
   "execution_count": 83,
   "id": "9aeada2b",
   "metadata": {},
   "outputs": [
    {
     "name": "stdout",
     "output_type": "stream",
     "text": [
      "Enter a string: Hello\n",
      "String after removing duplicates: Helo\n"
     ]
    }
   ],
   "source": [
    "def remove_duplicates(string):\n",
    "    unique_chars = []\n",
    "    result = \"\"\n",
    "\n",
    "    for char in string:\n",
    "        if char not in unique_chars:\n",
    "            unique_chars.append(char)\n",
    "            result += char\n",
    "\n",
    "    return result\n",
    "\n",
    "# Example usage\n",
    "input_string = input(\"Enter a string: \")\n",
    "\n",
    "result = remove_duplicates(input_string)\n",
    "print(\"String after removing duplicates:\", result)\n"
   ]
  },
  {
   "cell_type": "markdown",
   "id": "8de2f366",
   "metadata": {},
   "source": [
    "# Q46.\n",
    "### Implement a function to find the first missing positive"
   ]
  },
  {
   "cell_type": "code",
   "execution_count": 81,
   "id": "316cda15",
   "metadata": {},
   "outputs": [
    {
     "name": "stdout",
     "output_type": "stream",
     "text": [
      "Enter the numbers (space-separated): 1 2 4 5\n",
      "First missing positive integer: 3\n"
     ]
    }
   ],
   "source": [
    "def first_missing_positive(X, n):\n",
    "    for i in range(1, n + 2):\n",
    "        missing_flag = True\n",
    "        for j in range(n):\n",
    "            if X[j] == i:\n",
    "                missing_flag = False\n",
    "                break\n",
    "        if missing_flag:\n",
    "            return i\n",
    "\n",
    "    return n + 1\n",
    "\n",
    "input_numbers = input(\"Enter the numbers (space-separated): \").split()\n",
    "numbers = [int(num) for num in input_numbers]\n",
    "size = len(numbers)\n",
    "\n",
    "missing_positive = first_missing_positive(numbers, size)\n",
    "print(\"First missing positive integer:\", missing_positive)\n"
   ]
  },
  {
   "cell_type": "code",
   "execution_count": null,
   "id": "05aaec70",
   "metadata": {},
   "outputs": [],
   "source": []
  }
 ],
 "metadata": {
  "kernelspec": {
   "display_name": "Python 3 (ipykernel)",
   "language": "python",
   "name": "python3"
  },
  "language_info": {
   "codemirror_mode": {
    "name": "ipython",
    "version": 3
   },
   "file_extension": ".py",
   "mimetype": "text/x-python",
   "name": "python",
   "nbconvert_exporter": "python",
   "pygments_lexer": "ipython3",
   "version": "3.10.9"
  }
 },
 "nbformat": 4,
 "nbformat_minor": 5
}
