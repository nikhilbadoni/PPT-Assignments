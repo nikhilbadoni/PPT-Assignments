{
 "cells": [
  {
   "cell_type": "markdown",
   "id": "5472766b",
   "metadata": {},
   "source": [
    "# Q1.\n",
    "### Given a non-negative integer `x`, return *the square root of* `x` *rounded down to the nearest integer*. The returned integer should be **non-negative** as well.\n",
    "\n",
    "### You **must not use** any built-in exponent function or operator.\n",
    "\n",
    "### - For example, do not use `pow(x, 0.5)` in c++ or `x ** 0.5` in python\n",
    "### **Example 1:**\n",
    "### Input: x = 4\n",
    "### Output: 2"
   ]
  },
  {
   "cell_type": "code",
   "execution_count": 1,
   "id": "492287f1",
   "metadata": {},
   "outputs": [
    {
     "name": "stdout",
     "output_type": "stream",
     "text": [
      "2\n"
     ]
    }
   ],
   "source": [
    "def sqrt(x):\n",
    "    if x < 2:\n",
    "        return x\n",
    "\n",
    "    left, right = 0, x\n",
    "\n",
    "    while left <= right:\n",
    "        mid = left + (right - left) // 2\n",
    "        square = mid * mid\n",
    "\n",
    "        if square == x:\n",
    "            return mid\n",
    "        elif square < x:\n",
    "            left = mid + 1\n",
    "        else:\n",
    "            right = mid - 1\n",
    "\n",
    "    return right\n",
    "\n",
    "# Test Example\n",
    "x = 4\n",
    "print(sqrt(x))  \n"
   ]
  },
  {
   "cell_type": "markdown",
   "id": "1e828a87",
   "metadata": {},
   "source": [
    "# Q2.\n",
    "### A peak element is an element that is strictly greater than its neighbors.\n",
    "\n",
    "### Given a **0-indexed** integer array `nums`, find a peak element, and return its index. If the array contains multiple peaks, return the index to **any of the peaks**.\n",
    "\n",
    "### You may imagine that `nums[-1] = nums[n] = -∞`. In other words, an element is always considered to be strictly greater than a neighbor that is outside the array.\n",
    "\n",
    "### You must write an algorithm that runs in `O(log n)` time.\n",
    "### **Example 1:**\n",
    "### Input: nums = [1,2,3,1]\n",
    "### Output: 2"
   ]
  },
  {
   "cell_type": "code",
   "execution_count": 2,
   "id": "112878a0",
   "metadata": {},
   "outputs": [
    {
     "name": "stdout",
     "output_type": "stream",
     "text": [
      "2\n"
     ]
    }
   ],
   "source": [
    "def find_peak_element(nums):\n",
    "    left, right = 0, len(nums) - 1\n",
    "\n",
    "    while left < right:\n",
    "        mid = left + (right - left) // 2\n",
    "\n",
    "        if nums[mid] < nums[mid + 1]:\n",
    "            left = mid + 1\n",
    "        else:\n",
    "            right = mid\n",
    "\n",
    "    return left\n",
    "\n",
    "# Test Example\n",
    "nums = [1, 2, 3, 1]\n",
    "print(find_peak_element(nums))  \n"
   ]
  },
  {
   "cell_type": "markdown",
   "id": "bdc6ce13",
   "metadata": {},
   "source": [
    "# Q3.\n",
    "### Given an array nums containing n distinct numbers in the range [0, n], return the only number in the range that is missing from the array.\n",
    "### **Example 1:**\n",
    "### Input: nums = [3,0,1]\n",
    "### Output: 2"
   ]
  },
  {
   "cell_type": "code",
   "execution_count": 6,
   "id": "b94fc87a",
   "metadata": {},
   "outputs": [
    {
     "name": "stdout",
     "output_type": "stream",
     "text": [
      "2\n"
     ]
    }
   ],
   "source": [
    "def missing_number(nums):\n",
    "    n = len(nums)\n",
    "    expected_sum = n * (n + 1) // 2\n",
    "    actual_sum = sum(nums)\n",
    "\n",
    "    return expected_sum - actual_sum\n",
    "\n",
    "# Test Example\n",
    "nums = [3, 0, 1]\n",
    "print(missing_number(nums))  \n"
   ]
  },
  {
   "cell_type": "markdown",
   "id": "64c5a07d",
   "metadata": {},
   "source": [
    "# Q4.\n",
    "### Given an array of integers `nums` containing `n + 1` integers where each integer is in the range `[1, n]` inclusive.\n",
    "\n",
    "### There is only **one repeated number** in `nums`, return *this repeated number*.\n",
    "\n",
    "### You must solve the problem **without** modifying the array `nums` and uses only constant extra space.\n",
    "### **Example 1:**\n",
    "### Input: nums = [3,1,3,4,2]\n",
    "### Output: 3"
   ]
  },
  {
   "cell_type": "code",
   "execution_count": 15,
   "id": "d1aa53e5",
   "metadata": {},
   "outputs": [
    {
     "name": "stdout",
     "output_type": "stream",
     "text": [
      "3\n"
     ]
    }
   ],
   "source": [
    "def findDuplicate(nums):\n",
    "    slow = nums[0]\n",
    "    fast = nums[0]\n",
    "\n",
    "    while True:\n",
    "        slow = nums[slow]  \n",
    "        fast = nums[nums[fast]]  \n",
    "\n",
    "        if slow == fast:\n",
    "            break\n",
    "\n",
    "    slow = nums[0]\n",
    "    while slow != fast:\n",
    "        slow = nums[slow]\n",
    "        fast = nums[fast]\n",
    "\n",
    "    return slow\n",
    "\n",
    "# Test Example\n",
    "nums = [3, 1, 3, 4, 2]\n",
    "result = findDuplicate(nums)\n",
    "print(result) \n"
   ]
  },
  {
   "cell_type": "markdown",
   "id": "b032d5dd",
   "metadata": {},
   "source": [
    "# Q5.\n",
    "### Given two integer arrays `nums1` and `nums2`, return *an array of their intersection*. Each element in the result must be **unique** and you may return the result in **any order**.\n",
    "### **Example 1:**\n",
    "### Input: nums1 = [4,9,5], nums2 = [9,4,9,8,4]\n",
    "### Output: [9,4]"
   ]
  },
  {
   "cell_type": "code",
   "execution_count": 10,
   "id": "ebfd6057",
   "metadata": {},
   "outputs": [
    {
     "name": "stdout",
     "output_type": "stream",
     "text": [
      "[9, 4]\n"
     ]
    }
   ],
   "source": [
    "def find_intersection(nums1, nums2):\n",
    "    # Convert the arrays to sets\n",
    "    set1 = set(nums1)\n",
    "    set2 = set(nums2)\n",
    "\n",
    "    intersection = set1.intersection(set2)\n",
    "\n",
    "    return list(intersection)\n",
    "\n",
    "# Test Example\n",
    "nums1 = [4, 9, 5]\n",
    "nums2 = [9, 4, 9, 8, 4]\n",
    "result = find_intersection(nums1, nums2)\n",
    "print(result) \n"
   ]
  },
  {
   "cell_type": "markdown",
   "id": "2703847b",
   "metadata": {},
   "source": [
    "# Q6. \n",
    "### Suppose an array of length `n` sorted in ascending order is **rotated** between `1` and `n` times. For example, the array `nums = [0,1,2,4,5,6,7]` might become:\n",
    "\n",
    "### - `[4,5,6,7,0,1,2]` if it was rotated `4` times.\n",
    "### - `[0,1,2,4,5,6,7]` if it was rotated `7` times.\n",
    "\n",
    "### Notice that **rotating** an array `[a[0], a[1], a[2], ..., a[n-1]]` 1 time results in the array `[a[n-1], a[0], a[1], a[2], ..., a[n-2]]`.\n",
    "\n",
    "### Given the sorted rotated array `nums` of **unique** elements, return *the minimum element of this array*.\n",
    "\n",
    "### You must write an algorithm that runs in `O(log n) time.`\n",
    "\n",
    "### **Example 1:**\n",
    "### Input: nums = [11,13,15,17]\n",
    "### Output: 11"
   ]
  },
  {
   "cell_type": "code",
   "execution_count": 12,
   "id": "eb21f3bf",
   "metadata": {},
   "outputs": [
    {
     "name": "stdout",
     "output_type": "stream",
     "text": [
      "11\n"
     ]
    }
   ],
   "source": [
    "def find_min(nums):\n",
    "    left, right = 0, len(nums) - 1\n",
    "\n",
    "    while left < right:\n",
    "        mid = left + (right - left) // 2\n",
    "\n",
    "        if nums[mid] > nums[right]:\n",
    "            left = mid + 1\n",
    "        else:\n",
    "            right = mid\n",
    "\n",
    "    return nums[left]\n",
    "\n",
    "# Test Example\n",
    "nums = [11, 13, 15, 17]\n",
    "result = find_min(nums)\n",
    "print(result)  \n"
   ]
  },
  {
   "cell_type": "markdown",
   "id": "82af494a",
   "metadata": {},
   "source": [
    "# Q7.\n",
    "### Given an array of integers `nums` sorted in non-decreasing order, find the starting and ending position of a given `target` value.\n",
    "\n",
    "### If `target` is not found in the array, return `[-1, -1]`.\n",
    "\n",
    "### You must write an algorithm with `O(log n)` runtime complexity.\n",
    "### **Example 1:**\n",
    "### Input: nums = [5,7,7,8,8,10], target = 8\n",
    "### Output: [3,4]\n"
   ]
  },
  {
   "cell_type": "code",
   "execution_count": 13,
   "id": "386ff92a",
   "metadata": {},
   "outputs": [
    {
     "name": "stdout",
     "output_type": "stream",
     "text": [
      "[3, 4]\n"
     ]
    }
   ],
   "source": [
    "def searchRange(nums, target):\n",
    "    def find_leftmost(nums, target):\n",
    "        left, right = 0, len(nums) - 1\n",
    "        index = -1\n",
    "\n",
    "        while left <= right:\n",
    "            mid = left + (right - left) // 2\n",
    "\n",
    "            if nums[mid] >= target:\n",
    "                right = mid - 1\n",
    "                if nums[mid] == target:\n",
    "                    index = mid\n",
    "            else:\n",
    "                left = mid + 1\n",
    "\n",
    "        return index\n",
    "\n",
    "    def find_rightmost(nums, target):\n",
    "        left, right = 0, len(nums) - 1\n",
    "        index = -1\n",
    "\n",
    "        while left <= right:\n",
    "            mid = left + (right - left) // 2\n",
    "\n",
    "            if nums[mid] <= target:\n",
    "                left = mid + 1\n",
    "                if nums[mid] == target:\n",
    "                    index = mid\n",
    "            else:\n",
    "                right = mid - 1\n",
    "\n",
    "        return index\n",
    "\n",
    "    leftmost = find_leftmost(nums, target)\n",
    "    rightmost = find_rightmost(nums, target)\n",
    "\n",
    "    return [leftmost, rightmost]\n",
    "\n",
    "# Test Example\n",
    "nums = [5, 7, 7, 8, 8, 10]\n",
    "target = 8\n",
    "result = searchRange(nums, target)\n",
    "print(result) \n"
   ]
  },
  {
   "cell_type": "markdown",
   "id": "53055010",
   "metadata": {},
   "source": [
    "# Q8.\n",
    "### Given two integer arrays `nums1` and `nums2`, return *an array of their intersection*. Each element in the result must appear as many times as it shows in both arrays and you may return the result in **any order**.\n",
    "\n",
    "### **Example 1:**\n",
    "### Input: nums1 = [1,2,2,1], nums2 = [2,2]\n",
    "### Output: [2,2]\n"
   ]
  },
  {
   "cell_type": "code",
   "execution_count": 14,
   "id": "91b3148a",
   "metadata": {},
   "outputs": [
    {
     "name": "stdout",
     "output_type": "stream",
     "text": [
      "[2, 2]\n"
     ]
    }
   ],
   "source": [
    "def find_intersection(nums1, nums2):\n",
    "    count1 = {}\n",
    "    count2 = {}\n",
    "\n",
    "    for num in nums1:\n",
    "        count1[num] = count1.get(num, 0) + 1\n",
    "\n",
    "    for num in nums2:\n",
    "        count2[num] = count2.get(num, 0) + 1\n",
    "\n",
    "    intersection = []\n",
    "    for num in count1:\n",
    "        if num in count2:\n",
    "            intersection.extend([num] * min(count1[num], count2[num]))\n",
    "\n",
    "    return intersection\n",
    "\n",
    "# Test Example\n",
    "nums1 = [1, 2, 2, 1]\n",
    "nums2 = [2, 2]\n",
    "result = find_intersection(nums1, nums2)\n",
    "print(result) \n"
   ]
  }
 ],
 "metadata": {
  "kernelspec": {
   "display_name": "Python 3 (ipykernel)",
   "language": "python",
   "name": "python3"
  },
  "language_info": {
   "codemirror_mode": {
    "name": "ipython",
    "version": 3
   },
   "file_extension": ".py",
   "mimetype": "text/x-python",
   "name": "python",
   "nbconvert_exporter": "python",
   "pygments_lexer": "ipython3",
   "version": "3.10.9"
  }
 },
 "nbformat": 4,
 "nbformat_minor": 5
}
